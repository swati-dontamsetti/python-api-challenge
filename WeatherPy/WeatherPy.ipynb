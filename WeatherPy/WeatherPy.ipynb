{
 "cells": [
  {
   "cell_type": "markdown",
   "metadata": {},
   "source": [
    "# WeatherPy\n",
    "----\n",
    "\n",
    "#### Observations\n",
    "* The weather does get warmer the closer you get to the equator, and colder the further away you get.\n",
    "\n",
    "\n",
    "* Amongst my graphs, the \"Northern Hemisphere - Max Temp vs. Latitude Linear Regression\" has the closest to 1 r-squared value which means most of the data fits the regression model.\n",
    "\n",
    "\n",
    "* Humidity, Cloudiness, and Wind Speed don't appear to be affected by latitude."
   ]
  },
  {
   "cell_type": "code",
   "execution_count": 1,
   "metadata": {
    "scrolled": true
   },
   "outputs": [],
   "source": [
    "# Dependencies and Setup\n",
    "import matplotlib.pyplot as plt\n",
    "import pandas as pd\n",
    "import numpy as np\n",
    "import json\n",
    "import requests\n",
    "import time\n",
    "from scipy.stats import linregress\n",
    "\n",
    "# Import API key\n",
    "from api_keys import weather_api_key\n",
    "\n",
    "# Incorporated citipy to determine city based on latitude and longitude\n",
    "from citipy import citipy\n",
    "\n",
    "# Output File (CSV)\n",
    "output_data_file = \"../output_data/cities.csv\"\n",
    "\n",
    "# Range of latitudes and longitudes\n",
    "lat_range = (-90, 90)\n",
    "lng_range = (-180, 180)"
   ]
  },
  {
   "cell_type": "markdown",
   "metadata": {},
   "source": [
    "## Generate Cities List"
   ]
  },
  {
   "cell_type": "code",
   "execution_count": 2,
   "metadata": {},
   "outputs": [
    {
     "name": "stdout",
     "output_type": "stream",
     "text": [
      "600\n"
     ]
    }
   ],
   "source": [
    "# List for holding lat_lngs and cities\n",
    "lat_lngs = []\n",
    "cities = []\n",
    "\n",
    "# Create a set of random lat and lng combinations\n",
    "lats = np.random.uniform(low=-90.000, high=90.000, size=1500)\n",
    "lngs = np.random.uniform(low=-180.000, high=180.000, size=1500)\n",
    "lat_lngs = zip(lats, lngs)\n",
    "\n",
    "# Identify nearest city for each lat, lng combination\n",
    "for lat_lng in lat_lngs:\n",
    "    city = citipy.nearest_city(lat_lng[0], lat_lng[1]).city_name\n",
    "    \n",
    "    # If the city is unique, then add it to a our cities list\n",
    "    if city not in cities:\n",
    "        cities.append(city)\n",
    "\n",
    "# Print the city count to confirm sufficient count\n",
    "print(len(cities))"
   ]
  },
  {
   "cell_type": "markdown",
   "metadata": {},
   "source": [
    "### Perform API Calls\n",
    "* Perform a weather check on each city using a series of successive API calls.\n",
    "* Include a print log of each city as it'sbeing processed (with the city number and city name).\n"
   ]
  },
  {
   "cell_type": "code",
   "execution_count": 3,
   "metadata": {},
   "outputs": [
    {
     "name": "stdout",
     "output_type": "stream",
     "text": [
      "Beginning Data Retrieval\n",
      "-----------------------------\n",
      "Processing Record 1 of 600: Tasiilaq\n",
      "Processing Record 2 of 600: Vao\n",
      "Processing Record 3 of 600: Kirkuk\n",
      "Processing Record 4 of 600: Ushuaia\n",
      "Processing Record 5 of 600: Fairbanks\n",
      "Processing Record 6 of 600: Shelburne\n",
      "Processing Record 7 of 600: Busselton\n",
      "Processing Record 8 of 600: Bluff\n",
      "Processing Record 9 of 600: Puerto Ayora\n",
      "Processing Record 10 of 600: Tuy Hoa\n",
      "Processing Record 11 of 600: Kaitangata\n",
      "Processing Record 12 of 600: Grand Gaube\n",
      "Processing Record 13 of 600: Punta Arenas\n",
      "Processing Record 14 of 600: São Filipe\n",
      "City not found. Skipping...\n",
      "Processing Record 16 of 600: Pevek\n",
      "Processing Record 17 of 600: Nikolskoye\n",
      "Processing Record 18 of 600: Lagoa\n",
      "Processing Record 19 of 600: Barrow\n",
      "Processing Record 20 of 600: Berezovyy\n",
      "City not found. Skipping...\n",
      "Processing Record 22 of 600: Verkhoyansk\n",
      "Processing Record 23 of 600: Tuktoyaktuk\n",
      "Processing Record 24 of 600: Leningradskiy\n",
      "Processing Record 25 of 600: Honningsvåg\n",
      "Processing Record 26 of 600: Ukiah\n",
      "Processing Record 27 of 600: Gizo Government Station\n",
      "City not found. Skipping...\n",
      "City not found. Skipping...\n",
      "Processing Record 30 of 600: Dikson\n",
      "City not found. Skipping...\n",
      "Processing Record 32 of 600: Chachapoyas\n",
      "Processing Record 33 of 600: East London\n",
      "Processing Record 34 of 600: Bay Roberts\n",
      "Processing Record 35 of 600: Qaanaaq\n",
      "Processing Record 36 of 600: Mīrābād\n",
      "Processing Record 37 of 600: Arlit\n",
      "Processing Record 38 of 600: Srednekolymsk\n",
      "City not found. Skipping...\n",
      "Processing Record 40 of 600: Hong Kong\n",
      "Processing Record 41 of 600: Atuona\n",
      "Processing Record 42 of 600: Yaan\n",
      "Processing Record 43 of 600: Kudahuvadhoo\n",
      "Processing Record 44 of 600: Tezu\n",
      "Processing Record 45 of 600: Cape Town\n",
      "Processing Record 46 of 600: New Norfolk\n",
      "Processing Record 47 of 600: Cabedelo\n",
      "Processing Record 48 of 600: Harper\n",
      "Processing Record 49 of 600: Tautira\n",
      "Processing Record 50 of 600: Butaritari\n",
      "Processing Record 51 of 600: Rikitea\n",
      "Processing Record 52 of 600: Carballo\n",
      "Processing Record 53 of 600: Kidal\n",
      "City not found. Skipping...\n",
      "City not found. Skipping...\n",
      "Processing Record 56 of 600: George Town\n",
      "Processing Record 57 of 600: Buzuluk\n",
      "Processing Record 58 of 600: Port Elizabeth\n",
      "Processing Record 59 of 600: Mataura\n",
      "Processing Record 60 of 600: Albany\n",
      "Processing Record 61 of 600: Mar del Plata\n",
      "Processing Record 62 of 600: Mahébourg\n",
      "Processing Record 63 of 600: Guerrero Negro\n",
      "Processing Record 64 of 600: Portland\n",
      "Processing Record 65 of 600: Yellowknife\n",
      "Processing Record 66 of 600: Hobart\n",
      "Processing Record 67 of 600: Gambēla\n",
      "Processing Record 68 of 600: Boyolangu\n",
      "Processing Record 69 of 600: Makakilo City\n",
      "City not found. Skipping...\n",
      "Processing Record 71 of 600: Pimentel\n",
      "Processing Record 72 of 600: Thompson\n",
      "City not found. Skipping...\n",
      "Processing Record 74 of 600: Iracoubo\n",
      "Processing Record 75 of 600: Katsuura\n",
      "Processing Record 76 of 600: Tessalit\n",
      "Processing Record 77 of 600: Coahuayana Viejo\n",
      "Processing Record 78 of 600: Tadine\n",
      "Processing Record 79 of 600: Pisco\n",
      "Processing Record 80 of 600: Chokurdakh\n",
      "City not found. Skipping...\n",
      "Processing Record 82 of 600: Ponta do Sol\n",
      "Processing Record 83 of 600: Hilo\n",
      "Processing Record 84 of 600: Ojinaga\n",
      "Processing Record 85 of 600: Nanortalik\n",
      "Processing Record 86 of 600: Villarrica\n",
      "Processing Record 87 of 600: Longyearbyen\n",
      "Processing Record 88 of 600: Bengkulu\n",
      "Processing Record 89 of 600: Kasempa\n",
      "Processing Record 90 of 600: Nouadhibou\n",
      "Processing Record 91 of 600: Coyhaique\n",
      "Processing Record 92 of 600: Barsovo\n",
      "Processing Record 93 of 600: Mobaye\n",
      "Processing Record 94 of 600: Upernavik\n",
      "Processing Record 95 of 600: Provincia di Ancona\n",
      "Processing Record 96 of 600: Esim\n",
      "Processing Record 97 of 600: Banjar\n",
      "Processing Record 98 of 600: Lerwick\n",
      "Processing Record 99 of 600: Dera Bugti\n",
      "Processing Record 100 of 600: Diamantino\n",
      "Processing Record 101 of 600: Barra de Tecoanapa\n",
      "Processing Record 102 of 600: Nabire\n",
      "Processing Record 103 of 600: Baykalovo\n",
      "Processing Record 104 of 600: Hithadhoo\n",
      "Processing Record 105 of 600: Sovetskaya Gavan'\n",
      "Processing Record 106 of 600: Jacqueville\n",
      "Processing Record 107 of 600: Avarua\n",
      "Processing Record 108 of 600: Gamba\n",
      "Processing Record 109 of 600: Cerro de Pasco\n",
      "Processing Record 110 of 600: Pangnirtung\n",
      "Processing Record 111 of 600: Bethel\n",
      "Processing Record 112 of 600: Carnarvon\n",
      "City not found. Skipping...\n",
      "Processing Record 114 of 600: Vaini\n",
      "Processing Record 115 of 600: Jamestown\n",
      "Processing Record 116 of 600: Cabo San Lucas\n",
      "Processing Record 117 of 600: Eenhana\n",
      "Processing Record 118 of 600: Luanda\n",
      "Processing Record 119 of 600: Texarkana\n",
      "Processing Record 120 of 600: Antofagasta\n",
      "Processing Record 121 of 600: Lompoc\n",
      "City not found. Skipping...\n",
      "Processing Record 123 of 600: Zhuhai\n",
      "City not found. Skipping...\n",
      "Processing Record 125 of 600: Nantucket\n",
      "Processing Record 126 of 600: Mascota\n",
      "Processing Record 127 of 600: Rome\n",
      "Processing Record 128 of 600: Saint-Philippe\n",
      "Processing Record 129 of 600: Lorengau\n",
      "Processing Record 130 of 600: Manokwari\n",
      "Processing Record 131 of 600: Manggar\n",
      "Processing Record 132 of 600: Alyangula\n",
      "Processing Record 133 of 600: Sovetskiy\n",
      "Processing Record 134 of 600: Souillac\n",
      "Processing Record 135 of 600: Provideniya\n",
      "Processing Record 136 of 600: Kapaa\n",
      "Processing Record 137 of 600: Xinpu\n",
      "Processing Record 138 of 600: Morón\n",
      "Processing Record 139 of 600: Saskylakh\n",
      "Processing Record 140 of 600: Lagunas\n",
      "City not found. Skipping...\n",
      "Processing Record 142 of 600: Pacific Grove\n",
      "Processing Record 143 of 600: Uglovka\n",
      "Processing Record 144 of 600: Bonfim\n",
      "Processing Record 145 of 600: Lüderitz\n",
      "Processing Record 146 of 600: Conde\n",
      "Processing Record 147 of 600: Barcelos\n",
      "Processing Record 148 of 600: Margate\n",
      "Processing Record 149 of 600: Beringovskiy\n",
      "Processing Record 150 of 600: Pinar del Río\n",
      "Processing Record 151 of 600: Meleuz\n",
      "Processing Record 152 of 600: Airai\n",
      "Processing Record 153 of 600: Roebourne\n",
      "Processing Record 154 of 600: Kangaatsiaq\n",
      "Processing Record 155 of 600: Puerto Parra\n",
      "Processing Record 156 of 600: Buraidah\n",
      "Processing Record 157 of 600: Sangar\n",
      "Processing Record 158 of 600: Takoradze\n",
      "Processing Record 159 of 600: Cidreira\n",
      "Processing Record 160 of 600: Atar\n",
      "Processing Record 161 of 600: Hermanus\n",
      "Processing Record 162 of 600: Lebu\n",
      "City not found. Skipping...\n",
      "Processing Record 164 of 600: Sa Kaeo\n",
      "Processing Record 165 of 600: Tocopilla\n",
      "Processing Record 166 of 600: Vozhega\n",
      "Processing Record 167 of 600: Erzin\n",
      "Processing Record 168 of 600: Denpasar\n",
      "Processing Record 169 of 600: Tuatapere\n",
      "Processing Record 170 of 600: Alice Springs\n",
      "Processing Record 171 of 600: Shache\n",
      "Processing Record 172 of 600: Ostrovnoy\n",
      "Processing Record 173 of 600: Ahipara\n",
      "Processing Record 174 of 600: Saint George\n",
      "Processing Record 175 of 600: Zhoucheng\n",
      "Processing Record 176 of 600: Oyama\n",
      "Processing Record 177 of 600: Khovd\n",
      "City not found. Skipping...\n",
      "City not found. Skipping...\n",
      "Processing Record 180 of 600: Port Lincoln\n",
      "City not found. Skipping...\n",
      "Processing Record 182 of 600: Flinders\n",
      "Processing Record 183 of 600: Coquimbo\n",
      "Processing Record 184 of 600: Raudeberg\n",
      "Processing Record 185 of 600: Atlantis\n",
      "Processing Record 186 of 600: Arraial do Cabo\n",
      "Processing Record 187 of 600: Rio Grande\n",
      "Processing Record 188 of 600: Gouré\n",
      "Processing Record 189 of 600: Basoko\n",
      "City not found. Skipping...\n",
      "City not found. Skipping...\n",
      "Processing Record 192 of 600: Seoul\n",
      "Processing Record 193 of 600: Teya\n",
      "Processing Record 194 of 600: Quelimane\n",
      "Processing Record 195 of 600: Saint Paul Harbor\n",
      "Processing Record 196 of 600: Xichang\n",
      "Processing Record 197 of 600: Tual\n",
      "Processing Record 198 of 600: Araguaína\n",
      "Processing Record 199 of 600: Champerico\n",
      "Processing Record 200 of 600: Boguchany\n",
      "Processing Record 201 of 600: Kruisfontein\n",
      "Processing Record 202 of 600: Fare\n",
      "Processing Record 203 of 600: Sibolga\n",
      "Processing Record 204 of 600: Kyra\n",
      "Processing Record 205 of 600: Manfredonia\n",
      "Processing Record 206 of 600: Chaman\n",
      "Processing Record 207 of 600: Lavrentiya\n",
      "Processing Record 208 of 600: Narsaq\n",
      "Processing Record 209 of 600: Saint-Joseph\n",
      "Processing Record 210 of 600: Srandakan\n",
      "Processing Record 211 of 600: Chui\n",
      "Processing Record 212 of 600: Mikhaylovka\n",
      "Processing Record 213 of 600: Vila Franca do Campo\n",
      "Processing Record 214 of 600: Valleyview\n"
     ]
    },
    {
     "name": "stdout",
     "output_type": "stream",
     "text": [
      "Processing Record 215 of 600: Severo-Kuril'sk\n",
      "Processing Record 216 of 600: Karaman Province\n",
      "City not found. Skipping...\n",
      "Processing Record 218 of 600: Saint-Pierre\n",
      "Processing Record 219 of 600: Huarmey\n",
      "Processing Record 220 of 600: San Patricio\n",
      "Processing Record 221 of 600: Ures\n",
      "Processing Record 222 of 600: San Isidro\n",
      "Processing Record 223 of 600: Arrondissement de Vannes\n",
      "Processing Record 224 of 600: Bredasdorp\n",
      "Processing Record 225 of 600: Rundu\n",
      "Processing Record 226 of 600: Borkenes\n",
      "Processing Record 227 of 600: San Andrés\n",
      "Processing Record 228 of 600: Castro\n",
      "Processing Record 229 of 600: Clyde River\n",
      "Processing Record 230 of 600: Chernyshevskiy\n",
      "Processing Record 231 of 600: Ribeira Grande\n",
      "Processing Record 232 of 600: San Jose\n",
      "Processing Record 233 of 600: Haines Junction\n",
      "Processing Record 234 of 600: Meulaboh\n",
      "Processing Record 235 of 600: Iqaluit\n",
      "Processing Record 236 of 600: Makkah al Mukarramah\n",
      "Processing Record 237 of 600: Igarka\n",
      "Processing Record 238 of 600: Vardø\n",
      "City not found. Skipping...\n",
      "Processing Record 240 of 600: Beyneu\n",
      "Processing Record 241 of 600: Vikhorevka\n",
      "Processing Record 242 of 600: Tuntum\n",
      "Processing Record 243 of 600: Nome\n",
      "Processing Record 244 of 600: Gisborne\n",
      "Processing Record 245 of 600: Waipawa\n",
      "Processing Record 246 of 600: Bosaso\n",
      "Processing Record 247 of 600: Basna\n",
      "Processing Record 248 of 600: Tura\n",
      "Processing Record 249 of 600: Sept-Îles\n",
      "Processing Record 250 of 600: South Lake Tahoe\n",
      "Processing Record 251 of 600: Mehamn\n",
      "Processing Record 252 of 600: Port Alfred\n",
      "Processing Record 253 of 600: Dongli\n",
      "Processing Record 254 of 600: Mandera\n",
      "Processing Record 255 of 600: Codrington\n",
      "Processing Record 256 of 600: Chastyye\n",
      "Processing Record 257 of 600: Touros\n",
      "Processing Record 258 of 600: Mae Hong Son\n",
      "Processing Record 259 of 600: Manyana\n",
      "Processing Record 260 of 600: Madawaska\n",
      "Processing Record 261 of 600: Mānsa\n",
      "Processing Record 262 of 600: Kribi\n",
      "Processing Record 263 of 600: Kurumkan\n",
      "Processing Record 264 of 600: Port Blair\n",
      "Processing Record 265 of 600: Jumla\n",
      "Processing Record 266 of 600: Iraan\n",
      "Processing Record 267 of 600: Leshukonskoye\n",
      "Processing Record 268 of 600: Atikokan\n",
      "Processing Record 269 of 600: Oktyabr'skiy\n",
      "Processing Record 270 of 600: Merauke\n",
      "Processing Record 271 of 600: Karmaskaly\n",
      "Processing Record 272 of 600: Pangkalanbuun\n",
      "Processing Record 273 of 600: Adeje\n",
      "Processing Record 274 of 600: Port Macquarie\n",
      "Processing Record 275 of 600: Aklavik\n",
      "Processing Record 276 of 600: Sioux Lookout\n",
      "Processing Record 277 of 600: Boa Vista\n",
      "Processing Record 278 of 600: Emerald\n",
      "Processing Record 279 of 600: Province of Mantua\n",
      "Processing Record 280 of 600: Orange Park\n",
      "Processing Record 281 of 600: Morgan City\n",
      "Processing Record 282 of 600: Faanui\n",
      "City not found. Skipping...\n",
      "Processing Record 284 of 600: Abu Kamal\n",
      "Processing Record 285 of 600: Avera\n",
      "Processing Record 286 of 600: Dawson Creek\n",
      "Processing Record 287 of 600: Helena\n",
      "Processing Record 288 of 600: Kedrovyy\n",
      "Processing Record 289 of 600: Bereda\n",
      "Processing Record 290 of 600: Santa Inês\n",
      "Processing Record 291 of 600: Stornoway\n",
      "Processing Record 292 of 600: Mossamedes\n",
      "Processing Record 293 of 600: Cavalcante\n",
      "Processing Record 294 of 600: Funadhoo\n",
      "Processing Record 295 of 600: Fukuechō\n",
      "Processing Record 296 of 600: Olafsvik\n",
      "Processing Record 297 of 600: Cap Malheureux\n",
      "Processing Record 298 of 600: Ancud\n",
      "Processing Record 299 of 600: Hamilton\n",
      "City not found. Skipping...\n",
      "Processing Record 301 of 600: Camacha\n",
      "Processing Record 302 of 600: Raja\n",
      "Processing Record 303 of 600: Khatanga\n",
      "Processing Record 304 of 600: Gouyave\n",
      "Processing Record 305 of 600: Westport\n",
      "Processing Record 306 of 600: Dalbandin\n",
      "Processing Record 307 of 600: Storforshei\n",
      "Processing Record 308 of 600: Nadym\n",
      "Processing Record 309 of 600: Tampere\n",
      "Processing Record 310 of 600: Shizunai-furukawachō\n",
      "Processing Record 311 of 600: Ponta Porã\n",
      "Processing Record 312 of 600: Ola\n",
      "Processing Record 313 of 600: Pampa\n",
      "Processing Record 314 of 600: Basse-Pointe\n",
      "Processing Record 315 of 600: Kayes\n",
      "Processing Record 316 of 600: Boende\n",
      "Processing Record 317 of 600: Mount Gambier\n",
      "Processing Record 318 of 600: Pedernales\n",
      "Processing Record 319 of 600: Phra Phutthabat\n",
      "Processing Record 320 of 600: Isangel\n",
      "Processing Record 321 of 600: Yelets\n",
      "Processing Record 322 of 600: Mt. Pleasant\n",
      "Processing Record 323 of 600: Yangambi\n",
      "Processing Record 324 of 600: Houma\n",
      "Processing Record 325 of 600: Salihorsk\n",
      "Processing Record 326 of 600: Māngrol\n",
      "Processing Record 327 of 600: Dhidhdhoo\n",
      "Processing Record 328 of 600: Cláudio\n",
      "Processing Record 329 of 600: Pingzhuang\n",
      "Processing Record 330 of 600: Bambous Virieux\n",
      "Processing Record 331 of 600: Norman Wells\n",
      "Processing Record 332 of 600: Impfondo\n",
      "City not found. Skipping...\n",
      "Processing Record 334 of 600: Beloha\n",
      "Processing Record 335 of 600: Bathsheba\n",
      "City not found. Skipping...\n",
      "Processing Record 337 of 600: Plettenberg Bay\n",
      "Processing Record 338 of 600: Simao\n",
      "Processing Record 339 of 600: Manzanillo\n",
      "Processing Record 340 of 600: Namatanai\n",
      "Processing Record 341 of 600: Viytivka\n",
      "Processing Record 342 of 600: Mamlyutka\n",
      "Processing Record 343 of 600: Sivaki\n",
      "Processing Record 344 of 600: Taku\n",
      "City not found. Skipping...\n",
      "City not found. Skipping...\n",
      "Processing Record 347 of 600: Nurota\n",
      "City not found. Skipping...\n",
      "Processing Record 349 of 600: Eureka\n",
      "Processing Record 350 of 600: Peterhead\n",
      "Processing Record 351 of 600: Ossora\n",
      "City not found. Skipping...\n",
      "Processing Record 353 of 600: Mount Abu\n",
      "Processing Record 354 of 600: Magistral'nyy\n",
      "City not found. Skipping...\n",
      "Processing Record 356 of 600: Guane\n",
      "Processing Record 357 of 600: Ludvika\n",
      "Processing Record 358 of 600: Fairview\n",
      "Processing Record 359 of 600: Shingū\n",
      "Processing Record 360 of 600: Krasnosel'kup\n",
      "Processing Record 361 of 600: Agirish\n",
      "Processing Record 362 of 600: Kuito\n",
      "Processing Record 363 of 600: Talnakh\n",
      "Processing Record 364 of 600: Fort Nelson\n",
      "Processing Record 365 of 600: Naze\n",
      "Processing Record 366 of 600: Ixtapa\n",
      "Processing Record 367 of 600: Mazagão\n",
      "Processing Record 368 of 600: Hvizd\n",
      "Processing Record 369 of 600: Inhambane\n",
      "Processing Record 370 of 600: Manta\n",
      "Processing Record 371 of 600: Torbay\n",
      "Processing Record 372 of 600: Kumul\n",
      "Processing Record 373 of 600: Walvis Bay\n",
      "Processing Record 374 of 600: Evensk\n",
      "Processing Record 375 of 600: Guéret\n",
      "Processing Record 376 of 600: Bridlington\n",
      "Processing Record 377 of 600: Logan\n",
      "Processing Record 378 of 600: Adolfo Ruíz Cortínes\n",
      "Processing Record 379 of 600: Flin Flon\n",
      "Processing Record 380 of 600: Cherskiy\n",
      "Processing Record 381 of 600: San Quintín\n",
      "Processing Record 382 of 600: Iquique\n",
      "Processing Record 383 of 600: Angoche\n",
      "Processing Record 384 of 600: Yulara\n",
      "Processing Record 385 of 600: Mana\n",
      "City not found. Skipping...\n",
      "Processing Record 387 of 600: Pangody\n",
      "Processing Record 388 of 600: Sambo Creek\n",
      "Processing Record 389 of 600: Timmins\n",
      "Processing Record 390 of 600: Tazmalt\n",
      "Processing Record 391 of 600: Juneau\n",
      "Processing Record 392 of 600: Klaksvík\n",
      "Processing Record 393 of 600: Bulgan\n",
      "Processing Record 394 of 600: Karasburg\n",
      "City not found. Skipping...\n",
      "Processing Record 396 of 600: Karatau\n",
      "Processing Record 397 of 600: Laas\n",
      "Processing Record 398 of 600: Dhandhuka\n",
      "Processing Record 399 of 600: Bima\n",
      "Processing Record 400 of 600: Constitución\n",
      "Processing Record 401 of 600: Meadow Lake\n",
      "Processing Record 402 of 600: Dingle\n",
      "Processing Record 403 of 600: São João da Barra\n",
      "Processing Record 404 of 600: Mnogovershinnyy\n",
      "Processing Record 405 of 600: Lucapa\n",
      "Processing Record 406 of 600: Alta Floresta\n",
      "Processing Record 407 of 600: Puerto Escondido\n",
      "City not found. Skipping...\n",
      "Processing Record 409 of 600: Vila Velha\n",
      "Processing Record 410 of 600: El Bosque\n",
      "Processing Record 411 of 600: Porto-Vecchio\n",
      "Processing Record 412 of 600: Mogok\n",
      "Processing Record 413 of 600: Chapais\n",
      "City not found. Skipping...\n",
      "Processing Record 415 of 600: Bowen\n",
      "Processing Record 416 of 600: Arrondissement du Havre\n",
      "City not found. Skipping...\n",
      "Processing Record 418 of 600: Tiksi\n",
      "Processing Record 419 of 600: Yar-Sale\n",
      "Processing Record 420 of 600: Yangi Marg`ilon\n",
      "Processing Record 421 of 600: Chai Badan\n",
      "Processing Record 422 of 600: Cayenne\n",
      "Processing Record 423 of 600: Sindi\n",
      "Processing Record 424 of 600: Chara\n",
      "Processing Record 425 of 600: Kagoro\n",
      "City not found. Skipping...\n",
      "Processing Record 427 of 600: San Cristobal\n",
      "Processing Record 428 of 600: Soyo\n",
      "Processing Record 429 of 600: High Level\n"
     ]
    },
    {
     "name": "stdout",
     "output_type": "stream",
     "text": [
      "Processing Record 430 of 600: Neiafu\n",
      "Processing Record 431 of 600: Marzuq\n",
      "Processing Record 432 of 600: Warrington\n",
      "Processing Record 433 of 600: Adrar\n",
      "Processing Record 434 of 600: Tazovsky\n",
      "Processing Record 435 of 600: Merta\n",
      "Processing Record 436 of 600: La Libertad\n",
      "Processing Record 437 of 600: Sur\n",
      "Processing Record 438 of 600: Katangli\n",
      "Processing Record 439 of 600: Álamos\n",
      "Processing Record 440 of 600: Bubaque\n",
      "Processing Record 441 of 600: Skjervøy\n",
      "Processing Record 442 of 600: Veselynove\n",
      "Processing Record 443 of 600: Taldan\n",
      "Processing Record 444 of 600: Kuril'sk\n",
      "Processing Record 445 of 600: Tibati\n",
      "Processing Record 446 of 600: Vanimo\n",
      "Processing Record 447 of 600: Polyanka\n",
      "Processing Record 448 of 600: Tiznit Province\n",
      "Processing Record 449 of 600: Mahina\n",
      "Processing Record 450 of 600: Sitka\n",
      "Processing Record 451 of 600: Geraldton\n",
      "City not found. Skipping...\n",
      "Processing Record 453 of 600: Alto Araguaia\n",
      "Processing Record 454 of 600: Nikel\n",
      "Processing Record 455 of 600: Labuhan\n",
      "Processing Record 456 of 600: Porto-Novo\n",
      "Processing Record 457 of 600: Santo Domingo\n",
      "Processing Record 458 of 600: Guamúchil\n",
      "Processing Record 459 of 600: Athabasca\n",
      "Processing Record 460 of 600: Ucluelet\n",
      "Processing Record 461 of 600: Edd\n",
      "Processing Record 462 of 600: Byron Bay\n",
      "Processing Record 463 of 600: Altamira\n",
      "Processing Record 464 of 600: Rio Tinto\n",
      "Processing Record 465 of 600: Haapiti\n",
      "Processing Record 466 of 600: San Joaquin\n",
      "Processing Record 467 of 600: Springbok\n",
      "Processing Record 468 of 600: Egvekinot\n",
      "Processing Record 469 of 600: Severo-Yeniseyskiy\n",
      "Processing Record 470 of 600: Berlevåg\n",
      "Processing Record 471 of 600: Blytheville\n",
      "City not found. Skipping...\n",
      "Processing Record 473 of 600: Caraquet\n",
      "Processing Record 474 of 600: Zhigansk\n",
      "Processing Record 475 of 600: Half Moon Bay\n",
      "Processing Record 476 of 600: Hasaki\n",
      "Processing Record 477 of 600: Rocha\n",
      "Processing Record 478 of 600: Padborg\n",
      "Processing Record 479 of 600: Lata\n",
      "Processing Record 480 of 600: Āsbe Teferī\n",
      "Processing Record 481 of 600: Uitenhage\n",
      "City not found. Skipping...\n",
      "Processing Record 483 of 600: Pathein\n",
      "Processing Record 484 of 600: Karaton\n",
      "Processing Record 485 of 600: Sistranda\n",
      "Processing Record 486 of 600: Iralaya\n",
      "Processing Record 487 of 600: Abu Dhabi\n",
      "Processing Record 488 of 600: Menongue\n",
      "Processing Record 489 of 600: Victor Harbor\n",
      "Processing Record 490 of 600: Opunake\n",
      "Processing Record 491 of 600: Essau\n",
      "Processing Record 492 of 600: Lodja\n",
      "Processing Record 493 of 600: Havøysund\n",
      "Processing Record 494 of 600: Novi di Modena\n",
      "Processing Record 495 of 600: Nosy Varika\n",
      "Processing Record 496 of 600: Kamen'-Rybolov\n",
      "Processing Record 497 of 600: Bogotol\n",
      "Processing Record 498 of 600: Vilcún\n",
      "Processing Record 499 of 600: Plainview\n",
      "Processing Record 500 of 600: San Juan\n",
      "Processing Record 501 of 600: Conceição do Araguaia\n",
      "Processing Record 502 of 600: Sechura\n",
      "Processing Record 503 of 600: Kachīry\n",
      "Processing Record 504 of 600: Okhotsk\n",
      "Processing Record 505 of 600: Mahon\n",
      "Processing Record 506 of 600: Kavieng\n",
      "Processing Record 507 of 600: Rassvet\n",
      "Processing Record 508 of 600: Kahului\n",
      "Processing Record 509 of 600: Nioro\n",
      "Processing Record 510 of 600: Port-Gentil\n",
      "Processing Record 511 of 600: Kamaishi\n",
      "Processing Record 512 of 600: Gaza\n",
      "City not found. Skipping...\n",
      "Processing Record 514 of 600: Mbekenyera\n",
      "Processing Record 515 of 600: Zhangaözen\n",
      "Processing Record 516 of 600: Marsh Harbour\n",
      "City not found. Skipping...\n",
      "Processing Record 518 of 600: Pemberton\n",
      "Processing Record 519 of 600: Turtas\n",
      "Processing Record 520 of 600: Wabag\n",
      "Processing Record 521 of 600: Vestmannaeyjar\n",
      "Processing Record 522 of 600: Malibu\n",
      "Processing Record 523 of 600: Batemans Bay\n",
      "Processing Record 524 of 600: Calvinia\n",
      "Processing Record 525 of 600: Iberia\n",
      "Processing Record 526 of 600: Mpanda\n",
      "Processing Record 527 of 600: Fortuna\n",
      "Processing Record 528 of 600: Selishche\n",
      "Processing Record 529 of 600: Pelotas\n",
      "Processing Record 530 of 600: Teknāf\n",
      "Processing Record 531 of 600: Megion\n",
      "Processing Record 532 of 600: Greece\n",
      "Processing Record 533 of 600: Clearwater\n",
      "Processing Record 534 of 600: Luba\n",
      "Processing Record 535 of 600: Dongsheng\n",
      "Processing Record 536 of 600: Yichang\n",
      "Processing Record 537 of 600: Port Hardy\n",
      "Processing Record 538 of 600: Cintalapa\n",
      "Processing Record 539 of 600: Ilulissat\n",
      "Processing Record 540 of 600: Alfreton\n",
      "Processing Record 541 of 600: Kutum\n",
      "Processing Record 542 of 600: Henderson\n",
      "Processing Record 543 of 600: Deputatsky\n",
      "City not found. Skipping...\n",
      "Processing Record 545 of 600: Kirakira\n",
      "Processing Record 546 of 600: Sinnamary\n",
      "Processing Record 547 of 600: Vostok\n",
      "Processing Record 548 of 600: Alizai\n",
      "Processing Record 549 of 600: Balkhash\n",
      "Processing Record 550 of 600: Nacala\n",
      "Processing Record 551 of 600: College\n",
      "Processing Record 552 of 600: Turaif\n",
      "Processing Record 553 of 600: Great Yarmouth\n",
      "Processing Record 554 of 600: Concarneau\n",
      "Processing Record 555 of 600: Bayir\n",
      "Processing Record 556 of 600: Port Hedland\n",
      "Processing Record 557 of 600: Barra do Garças\n",
      "Processing Record 558 of 600: Birjand\n",
      "City not found. Skipping...\n",
      "Processing Record 560 of 600: Hofn\n",
      "Processing Record 561 of 600: Rome\n",
      "Processing Record 562 of 600: Kamina\n",
      "Processing Record 563 of 600: Killybegs\n",
      "Processing Record 564 of 600: Laguna\n",
      "Processing Record 565 of 600: Saldanha\n",
      "Processing Record 566 of 600: Yatou\n",
      "Processing Record 567 of 600: Poço Branco\n",
      "Processing Record 568 of 600: Grafton\n",
      "Processing Record 569 of 600: Kalmunai\n",
      "Processing Record 570 of 600: Biloela\n",
      "Processing Record 571 of 600: Moindou\n",
      "City not found. Skipping...\n",
      "Processing Record 573 of 600: Fomboni\n",
      "Processing Record 574 of 600: Omsukchan\n",
      "Processing Record 575 of 600: Destin\n",
      "Processing Record 576 of 600: Saint-Marc\n",
      "Processing Record 577 of 600: Grindavik\n",
      "Processing Record 578 of 600: Yulin\n",
      "Processing Record 579 of 600: Kirkwall\n",
      "City not found. Skipping...\n",
      "Processing Record 581 of 600: Strenči\n",
      "Processing Record 582 of 600: San Borja\n",
      "Processing Record 583 of 600: Bétaré Oya\n",
      "Processing Record 584 of 600: Micheweni\n",
      "Processing Record 585 of 600: Thinadhoo\n",
      "City not found. Skipping...\n",
      "Processing Record 587 of 600: Indianola\n",
      "Processing Record 588 of 600: Gravdal\n",
      "Processing Record 589 of 600: Salalah\n",
      "Processing Record 590 of 600: Mandalgovi\n",
      "Processing Record 591 of 600: Alofi\n",
      "Processing Record 592 of 600: Nizwá\n",
      "Processing Record 593 of 600: Lamu\n",
      "Processing Record 594 of 600: Lemta\n",
      "Processing Record 595 of 600: Agadez\n",
      "Processing Record 596 of 600: Batagay\n",
      "Processing Record 597 of 600: Belém de São Francisco\n",
      "Processing Record 598 of 600: Jalu\n",
      "Processing Record 599 of 600: Karla\n",
      "Processing Record 600 of 600: Agüimes\n",
      "-----------------------------\n",
      "Data Retrieval Complete\n",
      "-----------------------------\n"
     ]
    }
   ],
   "source": [
    "# empty arrays to be appended\n",
    "city = []\n",
    "cloudiness = []\n",
    "country = []\n",
    "date = []\n",
    "humidity = []\n",
    "lat = []\n",
    "lng = []\n",
    "max_temp = []\n",
    "wind_speed = []\n",
    "\n",
    "# base url\n",
    "url = \"http://api.openweathermap.org/data/2.5/weather?\"\n",
    "units = \"imperial\"\n",
    "\n",
    "# start of the print\n",
    "print(\"Beginning Data Retrieval\")\n",
    "print(\"-----------------------------\")\n",
    "\n",
    "# start counter\n",
    "count = 0\n",
    "\n",
    "for citi in cities:\n",
    "    # Build query URL\n",
    "    query_url = f\"{url}appid={weather_api_key}&q={citi}&units={units}\"\n",
    "    \n",
    "    # Get weather data\n",
    "    weather_json = requests.get(query_url).json()\n",
    "    \n",
    "    # increase count\n",
    "    count += 1\n",
    "\n",
    "    try:\n",
    "        #print city name\n",
    "        name = weather_json[\"name\"]\n",
    "        print(f\"Processing Record {count} of {len(cities)}: {name}\")\n",
    "        \n",
    "        #append arrays\n",
    "        city.append(weather_json[\"name\"])\n",
    "        cloudiness.append(weather_json[\"clouds\"][\"all\"])\n",
    "        country.append(weather_json[\"sys\"][\"country\"])\n",
    "        date.append(weather_json[\"dt\"])\n",
    "        humidity.append(weather_json[\"main\"][\"humidity\"])\n",
    "        max_temp.append(weather_json[\"main\"][\"temp_max\"])\n",
    "        wind_speed.append(weather_json[\"wind\"][\"speed\"])\n",
    "        lat.append(weather_json[\"coord\"][\"lat\"])\n",
    "        lng.append(weather_json[\"coord\"][\"lon\"])\n",
    "        \n",
    "    except:\n",
    "        print(\"City not found. Skipping...\")\n",
    "    \n",
    "print(\"-----------------------------\")\n",
    "print(\"Data Retrieval Complete\")\n",
    "print(\"-----------------------------\")"
   ]
  },
  {
   "cell_type": "markdown",
   "metadata": {},
   "source": [
    "### Convert Raw Data to DataFrame\n",
    "* Export the city data into a .csv.\n",
    "* Display the DataFrame"
   ]
  },
  {
   "cell_type": "code",
   "execution_count": 4,
   "metadata": {},
   "outputs": [
    {
     "data": {
      "text/plain": [
       "City               552\n",
       "Country            552\n",
       "Date               552\n",
       "Latitude           552\n",
       "Longitude          552\n",
       "Cloudiness         552\n",
       "Humidity           552\n",
       "Max Temperature    552\n",
       "Wind Speed         552\n",
       "dtype: int64"
      ]
     },
     "execution_count": 4,
     "metadata": {},
     "output_type": "execute_result"
    }
   ],
   "source": [
    "# to convert timestamp to regular date\n",
    "from datetime import datetime\n",
    "\n",
    "converted_date = []\n",
    "\n",
    "for dt in date:\n",
    "    converted_date.append(datetime.fromtimestamp(dt))\n",
    "    \n",
    "\n",
    "# read csv file\n",
    "df = pd.DataFrame({\n",
    "    \"City\": city,\n",
    "    \"Country\": country,\n",
    "    \"Date\": converted_date,\n",
    "    \"Latitude\": lat,\n",
    "    \"Longitude\": lng,\n",
    "    \"Cloudiness\": cloudiness,\n",
    "    \"Humidity\": humidity,\n",
    "    \"Max Temperature\": max_temp,\n",
    "    \"Wind Speed\": wind_speed\n",
    "})\n",
    "\n",
    "# save data frame as csv\n",
    "df.to_csv(\"../output_data/cities.csv\", encoding='utf-8', index=False)\n",
    "\n",
    "# view number of items per column\n",
    "df.count()"
   ]
  },
  {
   "cell_type": "code",
   "execution_count": 5,
   "metadata": {
    "scrolled": true
   },
   "outputs": [
    {
     "data": {
      "text/html": [
       "<div>\n",
       "<style scoped>\n",
       "    .dataframe tbody tr th:only-of-type {\n",
       "        vertical-align: middle;\n",
       "    }\n",
       "\n",
       "    .dataframe tbody tr th {\n",
       "        vertical-align: top;\n",
       "    }\n",
       "\n",
       "    .dataframe thead th {\n",
       "        text-align: right;\n",
       "    }\n",
       "</style>\n",
       "<table border=\"1\" class=\"dataframe\">\n",
       "  <thead>\n",
       "    <tr style=\"text-align: right;\">\n",
       "      <th></th>\n",
       "      <th>City</th>\n",
       "      <th>Country</th>\n",
       "      <th>Date</th>\n",
       "      <th>Latitude</th>\n",
       "      <th>Longitude</th>\n",
       "      <th>Cloudiness</th>\n",
       "      <th>Humidity</th>\n",
       "      <th>Max Temperature</th>\n",
       "      <th>Wind Speed</th>\n",
       "    </tr>\n",
       "  </thead>\n",
       "  <tbody>\n",
       "    <tr>\n",
       "      <td>0</td>\n",
       "      <td>Tasiilaq</td>\n",
       "      <td>GL</td>\n",
       "      <td>2020-03-17 16:20:13</td>\n",
       "      <td>65.61</td>\n",
       "      <td>-37.64</td>\n",
       "      <td>20</td>\n",
       "      <td>78</td>\n",
       "      <td>14.00</td>\n",
       "      <td>3.36</td>\n",
       "    </tr>\n",
       "    <tr>\n",
       "      <td>1</td>\n",
       "      <td>Vao</td>\n",
       "      <td>NC</td>\n",
       "      <td>2020-03-17 16:20:13</td>\n",
       "      <td>-22.67</td>\n",
       "      <td>167.48</td>\n",
       "      <td>26</td>\n",
       "      <td>76</td>\n",
       "      <td>76.55</td>\n",
       "      <td>18.81</td>\n",
       "    </tr>\n",
       "    <tr>\n",
       "      <td>2</td>\n",
       "      <td>Kirkuk</td>\n",
       "      <td>IQ</td>\n",
       "      <td>2020-03-17 16:20:13</td>\n",
       "      <td>35.47</td>\n",
       "      <td>44.39</td>\n",
       "      <td>0</td>\n",
       "      <td>62</td>\n",
       "      <td>59.63</td>\n",
       "      <td>14.52</td>\n",
       "    </tr>\n",
       "    <tr>\n",
       "      <td>3</td>\n",
       "      <td>Ushuaia</td>\n",
       "      <td>AR</td>\n",
       "      <td>2020-03-17 16:18:17</td>\n",
       "      <td>-54.80</td>\n",
       "      <td>-68.30</td>\n",
       "      <td>75</td>\n",
       "      <td>50</td>\n",
       "      <td>55.40</td>\n",
       "      <td>3.36</td>\n",
       "    </tr>\n",
       "    <tr>\n",
       "      <td>4</td>\n",
       "      <td>Fairbanks</td>\n",
       "      <td>US</td>\n",
       "      <td>2020-03-17 16:20:03</td>\n",
       "      <td>64.84</td>\n",
       "      <td>-147.72</td>\n",
       "      <td>1</td>\n",
       "      <td>73</td>\n",
       "      <td>34.00</td>\n",
       "      <td>6.93</td>\n",
       "    </tr>\n",
       "    <tr>\n",
       "      <td>...</td>\n",
       "      <td>...</td>\n",
       "      <td>...</td>\n",
       "      <td>...</td>\n",
       "      <td>...</td>\n",
       "      <td>...</td>\n",
       "      <td>...</td>\n",
       "      <td>...</td>\n",
       "      <td>...</td>\n",
       "      <td>...</td>\n",
       "    </tr>\n",
       "    <tr>\n",
       "      <td>547</td>\n",
       "      <td>Batagay</td>\n",
       "      <td>RU</td>\n",
       "      <td>2020-03-17 16:20:45</td>\n",
       "      <td>67.63</td>\n",
       "      <td>134.63</td>\n",
       "      <td>100</td>\n",
       "      <td>99</td>\n",
       "      <td>-6.07</td>\n",
       "      <td>2.42</td>\n",
       "    </tr>\n",
       "    <tr>\n",
       "      <td>548</td>\n",
       "      <td>Belém de São Francisco</td>\n",
       "      <td>BR</td>\n",
       "      <td>2020-03-17 16:20:45</td>\n",
       "      <td>-8.75</td>\n",
       "      <td>-38.97</td>\n",
       "      <td>100</td>\n",
       "      <td>55</td>\n",
       "      <td>85.91</td>\n",
       "      <td>4.05</td>\n",
       "    </tr>\n",
       "    <tr>\n",
       "      <td>549</td>\n",
       "      <td>Jalu</td>\n",
       "      <td>LY</td>\n",
       "      <td>2020-03-17 16:20:45</td>\n",
       "      <td>29.03</td>\n",
       "      <td>21.55</td>\n",
       "      <td>0</td>\n",
       "      <td>28</td>\n",
       "      <td>62.87</td>\n",
       "      <td>16.24</td>\n",
       "    </tr>\n",
       "    <tr>\n",
       "      <td>550</td>\n",
       "      <td>Karla</td>\n",
       "      <td>EE</td>\n",
       "      <td>2020-03-17 16:20:45</td>\n",
       "      <td>59.37</td>\n",
       "      <td>24.93</td>\n",
       "      <td>90</td>\n",
       "      <td>80</td>\n",
       "      <td>43.00</td>\n",
       "      <td>13.87</td>\n",
       "    </tr>\n",
       "    <tr>\n",
       "      <td>551</td>\n",
       "      <td>Agüimes</td>\n",
       "      <td>ES</td>\n",
       "      <td>2020-03-17 16:20:45</td>\n",
       "      <td>27.91</td>\n",
       "      <td>-15.45</td>\n",
       "      <td>75</td>\n",
       "      <td>63</td>\n",
       "      <td>64.00</td>\n",
       "      <td>17.22</td>\n",
       "    </tr>\n",
       "  </tbody>\n",
       "</table>\n",
       "<p>552 rows × 9 columns</p>\n",
       "</div>"
      ],
      "text/plain": [
       "                       City Country                Date  Latitude  Longitude  \\\n",
       "0                  Tasiilaq      GL 2020-03-17 16:20:13     65.61     -37.64   \n",
       "1                       Vao      NC 2020-03-17 16:20:13    -22.67     167.48   \n",
       "2                    Kirkuk      IQ 2020-03-17 16:20:13     35.47      44.39   \n",
       "3                   Ushuaia      AR 2020-03-17 16:18:17    -54.80     -68.30   \n",
       "4                 Fairbanks      US 2020-03-17 16:20:03     64.84    -147.72   \n",
       "..                      ...     ...                 ...       ...        ...   \n",
       "547                 Batagay      RU 2020-03-17 16:20:45     67.63     134.63   \n",
       "548  Belém de São Francisco      BR 2020-03-17 16:20:45     -8.75     -38.97   \n",
       "549                    Jalu      LY 2020-03-17 16:20:45     29.03      21.55   \n",
       "550                   Karla      EE 2020-03-17 16:20:45     59.37      24.93   \n",
       "551                 Agüimes      ES 2020-03-17 16:20:45     27.91     -15.45   \n",
       "\n",
       "     Cloudiness  Humidity  Max Temperature  Wind Speed  \n",
       "0            20        78            14.00        3.36  \n",
       "1            26        76            76.55       18.81  \n",
       "2             0        62            59.63       14.52  \n",
       "3            75        50            55.40        3.36  \n",
       "4             1        73            34.00        6.93  \n",
       "..          ...       ...              ...         ...  \n",
       "547         100        99            -6.07        2.42  \n",
       "548         100        55            85.91        4.05  \n",
       "549           0        28            62.87       16.24  \n",
       "550          90        80            43.00       13.87  \n",
       "551          75        63            64.00       17.22  \n",
       "\n",
       "[552 rows x 9 columns]"
      ]
     },
     "execution_count": 5,
     "metadata": {},
     "output_type": "execute_result"
    }
   ],
   "source": [
    "# print data frame\n",
    "df"
   ]
  },
  {
   "cell_type": "markdown",
   "metadata": {},
   "source": [
    "### Plotting the Data\n",
    "* Use proper labeling of the plots using plot titles (including date of analysis) and axes labels.\n",
    "* Save the plotted figures as .pngs."
   ]
  },
  {
   "cell_type": "markdown",
   "metadata": {},
   "source": [
    "#### Latitude vs. Temperature Plot"
   ]
  },
  {
   "cell_type": "code",
   "execution_count": 6,
   "metadata": {
    "scrolled": true
   },
   "outputs": [
    {
     "data": {
      "image/png": "[encoded data removed]",
      "text/plain": [
       "<Figure size 432x288 with 1 Axes>"
      ]
     },
     "metadata": {
      "needs_background": "light"
     },
     "output_type": "display_data"
    },
    {
     "name": "stdout",
     "output_type": "stream",
     "text": [
      "This scatterplot shows the relationship between the max temperature (F) in each city based on its latitude. Based on the results, it seems the closer you get to the equator the hotter it gets, and the further away, the colder it gets.\n"
     ]
    }
   ],
   "source": [
    "# create scatter plot\n",
    "plt.scatter(df[\"Latitude\"], df[\"Max Temperature\"])\n",
    "\n",
    "# add labels and title\n",
    "plt.title(f\"City Latitude vs. Max Temperature {converted_date[0]}\")\n",
    "plt.xlabel(\"Latitude\")\n",
    "plt.ylabel(\"Max Temperature (F)\")\n",
    "\n",
    "# add grid lines\n",
    "plt.grid()\n",
    "\n",
    "# show and save pic\n",
    "plt.savefig(\"../output_data/1LatvTemp.png\")\n",
    "plt.show()\n",
    "\n",
    "# graph explanation\n",
    "print(\"This scatterplot shows the relationship between the max temperature (F) \\\n",
    "in each city based on its latitude. Based on the results, it seems the closer \\\n",
    "you get to the equator the hotter it gets, and the further away, the colder it gets.\")"
   ]
  },
  {
   "cell_type": "markdown",
   "metadata": {},
   "source": [
    "#### Latitude vs. Humidity Plot"
   ]
  },
  {
   "cell_type": "code",
   "execution_count": 7,
   "metadata": {},
   "outputs": [
    {
     "data": {
      "image/png": "[encoded data removed]",
      "text/plain": [
       "<Figure size 432x288 with 1 Axes>"
      ]
     },
     "metadata": {
      "needs_background": "light"
     },
     "output_type": "display_data"
    },
    {
     "name": "stdout",
     "output_type": "stream",
     "text": [
      "This scatterplot shows the relationship between the humidity (%) in each city based on its latitude. Based on the results, it does not seem that latitude affects humidity since the data points are all over the place.\n"
     ]
    }
   ],
   "source": [
    "# create scatter plot\n",
    "plt.scatter(df[\"Latitude\"], df[\"Humidity\"])\n",
    "\n",
    "# add labels and title\n",
    "plt.title(f\"City Latitude vs. Humidity {converted_date[0]}\")\n",
    "plt.xlabel(\"Latitude\")\n",
    "plt.ylabel(\"Humidity (%)\")\n",
    "\n",
    "# add grid lines\n",
    "plt.grid()\n",
    "\n",
    "# show and save pic\n",
    "plt.savefig(\"../output_data/2LatvHumid.png\")\n",
    "plt.show()\n",
    "\n",
    "# graph explanation\n",
    "print(\"This scatterplot shows the relationship between the humidity (%) \\\n",
    "in each city based on its latitude. Based on the results, it does not seem \\\n",
    "that latitude affects humidity since the data points are all over the place.\")"
   ]
  },
  {
   "cell_type": "markdown",
   "metadata": {},
   "source": [
    "#### Latitude vs. Cloudiness Plot"
   ]
  },
  {
   "cell_type": "code",
   "execution_count": 8,
   "metadata": {},
   "outputs": [
    {
     "data": {
      "image/png": "[encoded data removed]",
      "text/plain": [
       "<Figure size 432x288 with 1 Axes>"
      ]
     },
     "metadata": {
      "needs_background": "light"
     },
     "output_type": "display_data"
    },
    {
     "name": "stdout",
     "output_type": "stream",
     "text": [
      "This scatterplot shows the relationship between the cloudiness (%) in each city based on its latitude. Based on the results, it does not seem that latitude affects cloudiness since the data points are all over the place.\n"
     ]
    }
   ],
   "source": [
    "# create scatter plot\n",
    "plt.scatter(df[\"Latitude\"], df[\"Cloudiness\"])\n",
    "\n",
    "# add labels and title\n",
    "plt.title(f\"City Latitude vs. Cloudiness {converted_date[0]}\")\n",
    "plt.xlabel(\"Latitude\")\n",
    "plt.ylabel(\"Cloudiness (%)\")\n",
    "\n",
    "# add grid lines\n",
    "plt.grid()\n",
    "\n",
    "# show and save pic\n",
    "plt.savefig(\"../output_data/3LatvCloud.png\")\n",
    "plt.show()\n",
    "\n",
    "# graph explanation\n",
    "print(\"This scatterplot shows the relationship between the cloudiness (%) \\\n",
    "in each city based on its latitude. Based on the results, it does not seem \\\n",
    "that latitude affects cloudiness since the data points are all over the place.\")"
   ]
  },
  {
   "cell_type": "markdown",
   "metadata": {},
   "source": [
    "#### Latitude vs. Wind Speed Plot"
   ]
  },
  {
   "cell_type": "code",
   "execution_count": 9,
   "metadata": {},
   "outputs": [
    {
     "data": {
      "image/png": "[encoded data removed]",
      "text/plain": [
       "<Figure size 432x288 with 1 Axes>"
      ]
     },
     "metadata": {
      "needs_background": "light"
     },
     "output_type": "display_data"
    },
    {
     "name": "stdout",
     "output_type": "stream",
     "text": [
      "This scatterplot shows the relationship between the wind speed (mph) in each city based on its latitude. Based on the results, it does not seem that latitude affects wind speed since the data points are all over the place.\n"
     ]
    }
   ],
   "source": [
    "# create scatter plot\n",
    "plt.scatter(df[\"Latitude\"], df[\"Wind Speed\"])\n",
    "\n",
    "# add labels and title\n",
    "plt.title(f\"City Latitude vs. Wind Speed {converted_date[0]}\")\n",
    "plt.xlabel(\"Latitude\")\n",
    "plt.ylabel(\"Wind Speed (mph)\")\n",
    "\n",
    "# add grid lines\n",
    "plt.grid()\n",
    "\n",
    "# show and save pic\n",
    "plt.savefig(\"../output_data/4LatvWind.png\")\n",
    "plt.show()\n",
    "\n",
    "# graph explanation\n",
    "print(\"This scatterplot shows the relationship between the wind speed (mph) \\\n",
    "in each city based on its latitude. Based on the results, it does not seem \\\n",
    "that latitude affects wind speed since the data points are all over the place.\")"
   ]
  },
  {
   "cell_type": "markdown",
   "metadata": {},
   "source": [
    "## Linear Regression"
   ]
  },
  {
   "cell_type": "code",
   "execution_count": 10,
   "metadata": {},
   "outputs": [],
   "source": [
    "# x axis for noth and souht\n",
    "nx_values = []\n",
    "sx_values = []\n",
    "\n",
    "# y axis for temp\n",
    "ny_values = []\n",
    "sy_values = []\n",
    "\n",
    "# y axis for humidity\n",
    "nhy_values = []\n",
    "shy_values = []\n",
    "\n",
    "# y axis for cloudiness\n",
    "ncy_values = []\n",
    "scy_values = []\n",
    "\n",
    "# y axis for wind speed\n",
    "nwy_values = []\n",
    "swy_values = []\n",
    "\n",
    "# create index\n",
    "indexes = range(0, len(df[\"City\"]))\n",
    "\n",
    "# append arrays\n",
    "for index in indexes:\n",
    "    if df[\"Latitude\"][index] >= 0:\n",
    "        nx_values.append(df[\"Latitude\"][index])\n",
    "        ny_values.append(df[\"Max Temperature\"][index])\n",
    "        nhy_values.append(df[\"Humidity\"][index])\n",
    "        ncy_values.append(df[\"Cloudiness\"][index])\n",
    "        nwy_values.append(df[\"Wind Speed\"][index])\n",
    "    if df[\"Latitude\"][index] < 0:\n",
    "        sx_values.append(df[\"Latitude\"][index])\n",
    "        sy_values.append(df[\"Max Temperature\"][index])\n",
    "        shy_values.append(df[\"Humidity\"][index])\n",
    "        scy_values.append(df[\"Cloudiness\"][index])\n",
    "        swy_values.append(df[\"Wind Speed\"][index])\n",
    "        \n",
    "# convert all array values from float to integer\n",
    "nx_values = np.array(nx_values, dtype = \"int\")\n",
    "sx_values = np.array(sx_values, dtype = \"int\")\n",
    "ny_values = np.array(ny_values, dtype = \"int\")\n",
    "sy_values = np.array(sy_values, dtype = \"int\")\n",
    "nhy_values = np.array(nhy_values, dtype = \"int\")\n",
    "shy_values = np.array(shy_values, dtype = \"int\")\n",
    "ncy_values = np.array(ncy_values, dtype = \"int\")\n",
    "scy_values = np.array(scy_values, dtype = \"int\")\n",
    "nwy_values = np.array(nwy_values, dtype = \"int\")\n",
    "swy_values = np.array(swy_values, dtype = \"int\")"
   ]
  },
  {
   "cell_type": "markdown",
   "metadata": {},
   "source": [
    "####  Northern Hemisphere - Max Temp vs. Latitude Linear Regression"
   ]
  },
  {
   "cell_type": "code",
   "execution_count": 11,
   "metadata": {},
   "outputs": [
    {
     "name": "stdout",
     "output_type": "stream",
     "text": [
      "The r-squared is: -0.8885061607589173\n"
     ]
    },
    {
     "data": {
      "image/png": "[encoded data removed]",
      "text/plain": [
       "<Figure size 432x288 with 1 Axes>"
      ]
     },
     "metadata": {
      "needs_background": "light"
     },
     "output_type": "display_data"
    },
    {
     "name": "stdout",
     "output_type": "stream",
     "text": [
      "This scatterplot shows the relationship between the max temperature (F) in each northern city based on its latitude. Based on the results, it seems the closer you get to the equator the hotter it gets, and the further away, the colder it gets.\n"
     ]
    }
   ],
   "source": [
    "(slope, intercept, rvalue, pvalue, stderr) = linregress(nx_values, ny_values)\n",
    "regress_values = nx_values * slope + intercept\n",
    "line_eq = \"y = \" + str(round(slope,2)) + \"x + \" + str(round(intercept,2))\n",
    "plt.scatter(nx_values, ny_values)\n",
    "plt.plot(nx_values,regress_values,\"r-\")\n",
    "plt.annotate(line_eq,(6,10),fontsize=15,color=\"red\")\n",
    "plt.title(\"Northern Latitude Cities vs. Max Temperature\")\n",
    "plt.xlabel(\"Latitude\")\n",
    "plt.ylabel(\"Max Temperature (F)\")\n",
    "print(f\"The r-squared is: {rvalue}\")\n",
    "\n",
    "# show and save pic\n",
    "plt.savefig(\"../output_data/5NLatvTemp.png\")\n",
    "plt.show()\n",
    "\n",
    "# graph explanation\n",
    "print(\"This scatterplot shows the relationship between the max temperature (F) \\\n",
    "in each northern city based on its latitude. Based on the results, it seems the closer \\\n",
    "you get to the equator the hotter it gets, and the further away, the colder it gets.\")"
   ]
  },
  {
   "cell_type": "markdown",
   "metadata": {},
   "source": [
    "####  Southern Hemisphere - Max Temp vs. Latitude Linear Regression"
   ]
  },
  {
   "cell_type": "code",
   "execution_count": 12,
   "metadata": {},
   "outputs": [
    {
     "name": "stdout",
     "output_type": "stream",
     "text": [
      "The r-squared is: 0.5564459214970253\n"
     ]
    },
    {
     "data": {
      "image/png": "[encoded data removed]",
      "text/plain": [
       "<Figure size 432x288 with 1 Axes>"
      ]
     },
     "metadata": {
      "needs_background": "light"
     },
     "output_type": "display_data"
    },
    {
     "name": "stdout",
     "output_type": "stream",
     "text": [
      "This scatterplot shows the relationship between the max temperature (F) in each southern city based on its latitude. Based on the results, it seems the closer you get to the equator the hotter it gets, and the further away, the colder it gets.\n"
     ]
    }
   ],
   "source": [
    "(slope, intercept, rvalue, pvalue, stderr) = linregress(sx_values, sy_values)\n",
    "regress_values = sx_values * slope + intercept\n",
    "line_eq = \"y = \" + str(round(slope,2)) + \"x + \" + str(round(intercept,2))\n",
    "plt.scatter(sx_values, sy_values)\n",
    "plt.plot(sx_values,regress_values,\"r-\")\n",
    "plt.annotate(line_eq,(-30,40),fontsize=15,color=\"red\")\n",
    "plt.title(\"Southern Latitude Cities vs. Max Temperature\")\n",
    "plt.xlabel(\"Latitude\")\n",
    "plt.ylabel(\"Max Temperature (F)\")\n",
    "print(f\"The r-squared is: {rvalue}\")\n",
    "\n",
    "# show and save pic\n",
    "plt.savefig(\"../output_data/6SLatvTemp.png\")\n",
    "plt.show()\n",
    "\n",
    "# graph explanation\n",
    "print(\"This scatterplot shows the relationship between the max temperature (F) \\\n",
    "in each southern city based on its latitude. Based on the results, it seems the closer \\\n",
    "you get to the equator the hotter it gets, and the further away, the colder it gets.\")"
   ]
  },
  {
   "cell_type": "markdown",
   "metadata": {},
   "source": [
    "####  Northern Hemisphere - Humidity (%) vs. Latitude Linear Regression"
   ]
  },
  {
   "cell_type": "code",
   "execution_count": 13,
   "metadata": {},
   "outputs": [
    {
     "name": "stdout",
     "output_type": "stream",
     "text": [
      "The r-squared is: 0.3873341257617459\n"
     ]
    },
    {
     "data": {
      "image/png": "[encoded data removed]",
      "text/plain": [
       "<Figure size 432x288 with 1 Axes>"
      ]
     },
     "metadata": {
      "needs_background": "light"
     },
     "output_type": "display_data"
    },
    {
     "name": "stdout",
     "output_type": "stream",
     "text": [
      "This scatterplot shows the relationship between the humidity (%) in each northern city based on its latitude. Based on the results, it does not seem that latitude affects humidity since the data points are all over the place.\n"
     ]
    }
   ],
   "source": [
    "(slope, intercept, rvalue, pvalue, stderr) = linregress(nx_values, nhy_values)\n",
    "regress_values = nx_values * slope + intercept\n",
    "line_eq = \"y = \" + str(round(slope,2)) + \"x + \" + str(round(intercept,2))\n",
    "plt.scatter(nx_values, nhy_values)\n",
    "plt.plot(nx_values,regress_values,\"r-\")\n",
    "plt.annotate(line_eq,(45,10),fontsize=15,color=\"red\")\n",
    "plt.title(\"Northern Latitude Cities vs. Humidity\")\n",
    "plt.xlabel(\"Latitude\")\n",
    "plt.ylabel(\"Humidity (%)\")\n",
    "print(f\"The r-squared is: {rvalue}\")\n",
    "\n",
    "# show and save pic\n",
    "plt.savefig(\"../output_data/7NLatvHumid.png\")\n",
    "plt.show()\n",
    "\n",
    "# graph explanation\n",
    "print(\"This scatterplot shows the relationship between the humidity (%) \\\n",
    "in each northern city based on its latitude. Based on the results, it does not seem \\\n",
    "that latitude affects humidity since the data points are all over the place.\")"
   ]
  },
  {
   "cell_type": "markdown",
   "metadata": {},
   "source": [
    "####  Southern Hemisphere - Humidity (%) vs. Latitude Linear Regression"
   ]
  },
  {
   "cell_type": "code",
   "execution_count": 14,
   "metadata": {},
   "outputs": [
    {
     "name": "stdout",
     "output_type": "stream",
     "text": [
      "The r-squared is: 0.307471816320726\n"
     ]
    },
    {
     "data": {
      "image/png": "[encoded data removed]",
      "text/plain": [
       "<Figure size 432x288 with 1 Axes>"
      ]
     },
     "metadata": {
      "needs_background": "light"
     },
     "output_type": "display_data"
    },
    {
     "name": "stdout",
     "output_type": "stream",
     "text": [
      "This scatterplot shows the relationship between the humidity (%) in each southern city based on its latitude. Based on the results, it does not seem that latitude affects humidity since the data points are all over the place.\n"
     ]
    }
   ],
   "source": [
    "(slope, intercept, rvalue, pvalue, stderr) = linregress(sx_values, shy_values)\n",
    "regress_values = sx_values * slope + intercept\n",
    "line_eq = \"y = \" + str(round(slope,2)) + \"x + \" + str(round(intercept,2))\n",
    "plt.scatter(sx_values, shy_values)\n",
    "plt.plot(sx_values,regress_values,\"r-\")\n",
    "plt.annotate(line_eq,(-50,55),fontsize=15,color=\"red\")\n",
    "plt.title(\"Southern Latitude Cities vs. Humidity\")\n",
    "plt.xlabel(\"Latitude\")\n",
    "plt.ylabel(\"Humidity (%)\")\n",
    "print(f\"The r-squared is: {rvalue}\")\n",
    "\n",
    "# show and save pic\n",
    "plt.savefig(\"../output_data/8SLatvHumid.png\")\n",
    "plt.show()\n",
    "\n",
    "# graph explanation\n",
    "print(\"This scatterplot shows the relationship between the humidity (%) \\\n",
    "in each southern city based on its latitude. Based on the results, it does not seem \\\n",
    "that latitude affects humidity since the data points are all over the place.\")"
   ]
  },
  {
   "cell_type": "markdown",
   "metadata": {},
   "source": [
    "####  Northern Hemisphere - Cloudiness (%) vs. Latitude Linear Regression"
   ]
  },
  {
   "cell_type": "code",
   "execution_count": 15,
   "metadata": {},
   "outputs": [
    {
     "name": "stdout",
     "output_type": "stream",
     "text": [
      "The r-squared is: 0.20590152491384428\n"
     ]
    },
    {
     "data": {
      "image/png": "[encoded data removed]",
      "text/plain": [
       "<Figure size 432x288 with 1 Axes>"
      ]
     },
     "metadata": {
      "needs_background": "light"
     },
     "output_type": "display_data"
    },
    {
     "name": "stdout",
     "output_type": "stream",
     "text": [
      "This scatterplot shows the relationship between the cloudiness (%) in each northern city based on its latitude. Based on the results, it does not seem that latitude affects cloudiness since the data points are all over the place.\n"
     ]
    }
   ],
   "source": [
    "(slope, intercept, rvalue, pvalue, stderr) = linregress(nx_values, ncy_values)\n",
    "regress_values = nx_values * slope + intercept\n",
    "line_eq = \"y = \" + str(round(slope,2)) + \"x + \" + str(round(intercept,2))\n",
    "plt.scatter(nx_values, ncy_values)\n",
    "plt.plot(nx_values,regress_values,\"r-\")\n",
    "plt.annotate(line_eq,(45,55),fontsize=15,color=\"red\")\n",
    "plt.title(\"Northern Latitude Cities vs. Cloudiness\")\n",
    "plt.xlabel(\"Latitude\")\n",
    "plt.ylabel(\"Cloudiness (%)\")\n",
    "print(f\"The r-squared is: {rvalue}\")\n",
    "\n",
    "# show and save pic\n",
    "plt.savefig(\"../output_data/9NLatvCloud.png\")\n",
    "plt.show()\n",
    "\n",
    "# graph explanation\n",
    "print(\"This scatterplot shows the relationship between the cloudiness (%) \\\n",
    "in each northern city based on its latitude. Based on the results, it does not seem \\\n",
    "that latitude affects cloudiness since the data points are all over the place.\")"
   ]
  },
  {
   "cell_type": "markdown",
   "metadata": {},
   "source": [
    "####  Southern Hemisphere - Cloudiness (%) vs. Latitude Linear Regression"
   ]
  },
  {
   "cell_type": "code",
   "execution_count": 16,
   "metadata": {},
   "outputs": [
    {
     "name": "stdout",
     "output_type": "stream",
     "text": [
      "The r-squared is: 0.23556302674162488\n"
     ]
    },
    {
     "data": {
      "image/png": "[encoded data removed]",
      "text/plain": [
       "<Figure size 432x288 with 1 Axes>"
      ]
     },
     "metadata": {
      "needs_background": "light"
     },
     "output_type": "display_data"
    },
    {
     "name": "stdout",
     "output_type": "stream",
     "text": [
      "This scatterplot shows the relationship between the cloudiness (%) in each southern city based on its latitude. Based on the results, it does not seem that latitude affects cloudiness since the data points are all over the place.\n"
     ]
    }
   ],
   "source": [
    "(slope, intercept, rvalue, pvalue, stderr) = linregress(sx_values, scy_values)\n",
    "regress_values = sx_values * slope + intercept\n",
    "line_eq = \"y = \" + str(round(slope,2)) + \"x + \" + str(round(intercept,2))\n",
    "plt.scatter(sx_values, scy_values)\n",
    "plt.plot(sx_values,regress_values,\"r-\")\n",
    "plt.annotate(line_eq,(-45,30),fontsize=15,color=\"red\")\n",
    "plt.title(\"Southern Latitude Cities vs. Cloudiness\")\n",
    "plt.xlabel(\"Latitude\")\n",
    "plt.ylabel(\"Cloudiness (%)\")\n",
    "print(f\"The r-squared is: {rvalue}\")\n",
    "\n",
    "# show and save pic\n",
    "plt.savefig(\"../output_data/10SLatvCloud.png\")\n",
    "plt.show()\n",
    "\n",
    "# graph explanation\n",
    "print(\"This scatterplot shows the relationship between the cloudiness (%) \\\n",
    "in each southern city based on its latitude. Based on the results, it does not seem \\\n",
    "that latitude affects cloudiness since the data points are all over the place.\")"
   ]
  },
  {
   "cell_type": "markdown",
   "metadata": {},
   "source": [
    "####  Northern Hemisphere - Wind Speed (mph) vs. Latitude Linear Regression"
   ]
  },
  {
   "cell_type": "code",
   "execution_count": 17,
   "metadata": {},
   "outputs": [
    {
     "name": "stdout",
     "output_type": "stream",
     "text": [
      "The r-squared is: 0.06794232206589987\n"
     ]
    },
    {
     "data": {
      "image/png": "[encoded data removed]",
      "text/plain": [
       "<Figure size 432x288 with 1 Axes>"
      ]
     },
     "metadata": {
      "needs_background": "light"
     },
     "output_type": "display_data"
    },
    {
     "name": "stdout",
     "output_type": "stream",
     "text": [
      "This scatterplot shows the relationship between the wind speed (mph) in each northern city based on its latitude. Based on the results, it does not seem that latitude affects wind speed since the data points are all over the place.\n"
     ]
    }
   ],
   "source": [
    "(slope, intercept, rvalue, pvalue, stderr) = linregress(nx_values, nwy_values)\n",
    "regress_values = nx_values * slope + intercept\n",
    "line_eq = \"y = \" + str(round(slope,2)) + \"x + \" + str(round(intercept,2))\n",
    "plt.scatter(nx_values, nwy_values)\n",
    "plt.plot(nx_values,regress_values,\"r-\")\n",
    "plt.annotate(line_eq,(30,25),fontsize=15,color=\"red\")\n",
    "plt.title(\"Northern Latitude Cities vs. Wind Speed\")\n",
    "plt.xlabel(\"Latitude\")\n",
    "plt.ylabel(\"Wind Speed (mph)\")\n",
    "print(f\"The r-squared is: {rvalue}\")\n",
    "\n",
    "# show and save pic\n",
    "plt.savefig(\"../output_data/11NLatvWind.png\")\n",
    "plt.show()\n",
    "\n",
    "# graph explanation\n",
    "print(\"This scatterplot shows the relationship between the wind speed (mph) \\\n",
    "in each northern city based on its latitude. Based on the results, it does not seem \\\n",
    "that latitude affects wind speed since the data points are all over the place.\")"
   ]
  },
  {
   "cell_type": "markdown",
   "metadata": {},
   "source": [
    "####  Southern Hemisphere - Wind Speed (mph) vs. Latitude Linear Regression"
   ]
  },
  {
   "cell_type": "code",
   "execution_count": 18,
   "metadata": {},
   "outputs": [
    {
     "name": "stdout",
     "output_type": "stream",
     "text": [
      "The r-squared is: -0.22064699115380224\n"
     ]
    },
    {
     "data": {
      "image/png": "[encoded data removed]",
      "text/plain": [
       "<Figure size 432x288 with 1 Axes>"
      ]
     },
     "metadata": {
      "needs_background": "light"
     },
     "output_type": "display_data"
    },
    {
     "name": "stdout",
     "output_type": "stream",
     "text": [
      "This scatterplot shows the relationship between the wind speed (mph) in each southern city based on its latitude. Based on the results, it does not seem that latitude affects wind speed since the data points are all over the place.\n"
     ]
    }
   ],
   "source": [
    "(slope, intercept, rvalue, pvalue, stderr) = linregress(sx_values, swy_values)\n",
    "regress_values = sx_values * slope + intercept\n",
    "line_eq = \"y = \" + str(round(slope,2)) + \"x + \" + str(round(intercept,2))\n",
    "plt.scatter(sx_values, swy_values)\n",
    "plt.plot(sx_values,regress_values,\"r-\")\n",
    "plt.annotate(line_eq,(-30,20),fontsize=15,color=\"red\")\n",
    "plt.title(\"Southern Latitude Cities vs. Wind Speed\")\n",
    "plt.xlabel(\"Latitude\")\n",
    "plt.ylabel(\"Wind Speed (mph)\")\n",
    "print(f\"The r-squared is: {rvalue}\")\n",
    "\n",
    "# show and save pic\n",
    "plt.savefig(\"../output_data/12sLatvWind.png\")\n",
    "plt.show()\n",
    "\n",
    "# graph explanation\n",
    "print(\"This scatterplot shows the relationship between the wind speed (mph) \\\n",
    "in each southern city based on its latitude. Based on the results, it does not seem \\\n",
    "that latitude affects wind speed since the data points are all over the place.\")"
   ]
  },
  {
   "cell_type": "code",
   "execution_count": null,
   "metadata": {},
   "outputs": [],
   "source": []
  }
 ],
 "metadata": {
  "anaconda-cloud": {},
  "kernel_info": {
   "name": "python3"
  },
  "kernelspec": {
   "display_name": "Python 3",
   "language": "python",
   "name": "python3"
  },
  "language_info": {
   "codemirror_mode": {
    "name": "ipython",
    "version": 3
   },
   "file_extension": ".py",
   "mimetype": "text/x-python",
   "name": "python",
   "nbconvert_exporter": "python",
   "pygments_lexer": "ipython3",
   "version": "3.7.4"
  },
  "latex_envs": {
   "LaTeX_envs_menu_present": true,
   "autoclose": false,
   "autocomplete": true,
   "bibliofile": "biblio.bib",
   "cite_by": "apalike",
   "current_citInitial": 1,
   "eqLabelWithNumbers": true,
   "eqNumInitial": 1,
   "hotkeys": {
    "equation": "Ctrl-E",
    "itemize": "Ctrl-I"
   },
   "labels_anchors": false,
   "latex_user_defs": false,
   "report_style_numbering": false,
   "user_envs_cfg": false
  },
  "nteract": {
   "version": "0.12.3"
  }
 },
 "nbformat": 4,
 "nbformat_minor": 2
}
