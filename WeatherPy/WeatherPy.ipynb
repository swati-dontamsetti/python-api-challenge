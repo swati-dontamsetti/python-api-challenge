{
 "cells": [
  {
   "cell_type": "markdown",
   "metadata": {},
   "source": [
    "# WeatherPy\n",
    "----\n",
    "\n",
    "#### Observations\n",
    "* The weather does get warmer the closer you get to the equator, and colder the further away you get.\n",
    "\n",
    "\n",
    "* Amongst my graphs, the \"Northern Hemisphere - Max Temp vs. Latitude Linear Regression\" has the closest to 1 r-squared value which means most of the data fits the regression model.\n",
    "\n",
    "\n",
    "* Humidity, Cloudiness, and Wind Speed don't appear to be affected by latitude."
   ]
  },
  {
   "cell_type": "code",
   "execution_count": 1,
   "metadata": {
    "scrolled": true
   },
   "outputs": [],
   "source": [
    "# Dependencies and Setup\n",
    "import matplotlib.pyplot as plt\n",
    "import pandas as pd\n",
    "import numpy as np\n",
    "import json\n",
    "import requests\n",
    "import time\n",
    "from scipy.stats import linregress\n",
    "\n",
    "# Import API key\n",
    "from api_keys import weather_api_key\n",
    "\n",
    "# Incorporated citipy to determine city based on latitude and longitude\n",
    "from citipy import citipy\n",
    "\n",
    "# Output File (CSV)\n",
    "output_data_file = \"../output_data/cities.csv\"\n",
    "\n",
    "# Range of latitudes and longitudes\n",
    "lat_range = (-90, 90)\n",
    "lng_range = (-180, 180)"
   ]
  },
  {
   "cell_type": "markdown",
   "metadata": {},
   "source": [
    "## Generate Cities List"
   ]
  },
  {
   "cell_type": "code",
   "execution_count": 2,
   "metadata": {},
   "outputs": [
    {
     "name": "stdout",
     "output_type": "stream",
     "text": [
      "614\n"
     ]
    }
   ],
   "source": [
    "# List for holding lat_lngs and cities\n",
    "lat_lngs = []\n",
    "cities = []\n",
    "\n",
    "# Create a set of random lat and lng combinations\n",
    "lats = np.random.uniform(low=-90.000, high=90.000, size=1500)\n",
    "lngs = np.random.uniform(low=-180.000, high=180.000, size=1500)\n",
    "lat_lngs = zip(lats, lngs)\n",
    "\n",
    "# Identify nearest city for each lat, lng combination\n",
    "for lat_lng in lat_lngs:\n",
    "    city = citipy.nearest_city(lat_lng[0], lat_lng[1]).city_name\n",
    "    \n",
    "    # If the city is unique, then add it to a our cities list\n",
    "    if city not in cities:\n",
    "        cities.append(city)\n",
    "\n",
    "# Print the city count to confirm sufficient count\n",
    "print(len(cities))"
   ]
  },
  {
   "cell_type": "markdown",
   "metadata": {},
   "source": [
    "### Perform API Calls\n",
    "* Perform a weather check on each city using a series of successive API calls.\n",
    "* Include a print log of each city as it'sbeing processed (with the city number and city name).\n"
   ]
  },
  {
   "cell_type": "code",
   "execution_count": 3,
   "metadata": {},
   "outputs": [
    {
     "name": "stdout",
     "output_type": "stream",
     "text": [
      "Beginning Data Retrieval\n",
      "-----------------------------\n",
      "Processing Record 1 of 614: Puerto Escondido\n",
      "Processing Record 2 of 614: Hermanus\n",
      "Processing Record 3 of 614: Inhambane\n",
      "Processing Record 4 of 614: Ponta do Sol\n",
      "Processing Record 5 of 614: Rikitea\n",
      "Processing Record 6 of 614: Bosaso\n",
      "Processing Record 7 of 614: Kapaa\n",
      "Processing Record 8 of 614: Adrar\n",
      "Processing Record 9 of 614: Yellowknife\n",
      "City not found. Skipping...\n",
      "Processing Record 11 of 614: Padang\n",
      "Processing Record 12 of 614: Mataura\n",
      "Processing Record 13 of 614: Victoria Point\n",
      "Processing Record 14 of 614: Road Town\n",
      "Processing Record 15 of 614: Vaini\n",
      "Processing Record 16 of 614: Semnan\n",
      "Processing Record 17 of 614: Oudtshoorn\n",
      "Processing Record 18 of 614: Province of Mantua\n",
      "Processing Record 19 of 614: Ushuaia\n",
      "Processing Record 20 of 614: Grand Gaube\n",
      "Processing Record 21 of 614: Hilo\n",
      "City not found. Skipping...\n",
      "Processing Record 23 of 614: Coquimbo\n",
      "City not found. Skipping...\n",
      "Processing Record 25 of 614: Zhuhai\n",
      "City not found. Skipping...\n",
      "Processing Record 27 of 614: Fortuna\n",
      "Processing Record 28 of 614: Saint Paul Harbor\n",
      "City not found. Skipping...\n",
      "Processing Record 30 of 614: Bredasdorp\n",
      "Processing Record 31 of 614: Beira\n",
      "Processing Record 32 of 614: Antofagasta\n",
      "Processing Record 33 of 614: Cherskiy\n",
      "Processing Record 34 of 614: Saskylakh\n",
      "Processing Record 35 of 614: Castlebar\n",
      "Processing Record 36 of 614: Pisco\n",
      "Processing Record 37 of 614: Nikolskoye\n",
      "City not found. Skipping...\n",
      "Processing Record 39 of 614: Jamestown\n",
      "Processing Record 40 of 614: Paita\n",
      "Processing Record 41 of 614: Borogontsy\n",
      "Processing Record 42 of 614: Puerto Ayora\n",
      "Processing Record 43 of 614: Berdigestyakh\n",
      "Processing Record 44 of 614: Qaanaaq\n",
      "Processing Record 45 of 614: Rudnichnyy\n",
      "Processing Record 46 of 614: Vernon\n",
      "Processing Record 47 of 614: Atuona\n",
      "Processing Record 48 of 614: Burnie\n",
      "Processing Record 49 of 614: Salalah\n",
      "Processing Record 50 of 614: Båtsfjord\n",
      "Processing Record 51 of 614: Klaksvík\n",
      "Processing Record 52 of 614: Torbay\n",
      "Processing Record 53 of 614: Kloulklubed\n",
      "Processing Record 54 of 614: Port Elizabeth\n",
      "Processing Record 55 of 614: Druzhba\n",
      "Processing Record 56 of 614: Harrismith\n",
      "Processing Record 57 of 614: Omaha\n",
      "Processing Record 58 of 614: San Joaquin\n",
      "Processing Record 59 of 614: Maragogi\n",
      "Processing Record 60 of 614: Thompson\n",
      "Processing Record 61 of 614: Hasaki\n",
      "Processing Record 62 of 614: Hwange\n",
      "Processing Record 63 of 614: Carmo do Rio Claro\n",
      "Processing Record 64 of 614: Carahue\n",
      "Processing Record 65 of 614: Provideniya\n",
      "City not found. Skipping...\n",
      "Processing Record 67 of 614: Port-Gentil\n",
      "Processing Record 68 of 614: Geraldton\n",
      "Processing Record 69 of 614: Punta Arenas\n",
      "Processing Record 70 of 614: Mar del Plata\n",
      "Processing Record 71 of 614: Talnakh\n",
      "Processing Record 72 of 614: Ribeira Grande\n",
      "Processing Record 73 of 614: Kunduz\n",
      "Processing Record 74 of 614: Ngerengere\n",
      "Processing Record 75 of 614: Qiongshan\n",
      "Processing Record 76 of 614: Alice Springs\n",
      "Processing Record 77 of 614: Cabo San Lucas\n",
      "Processing Record 78 of 614: Hamilton\n",
      "Processing Record 79 of 614: Arraial do Cabo\n",
      "Processing Record 80 of 614: Cape Town\n",
      "Processing Record 81 of 614: Saint George\n",
      "Processing Record 82 of 614: Shimoda\n",
      "City not found. Skipping...\n",
      "Processing Record 84 of 614: East London\n",
      "Processing Record 85 of 614: Ahipara\n",
      "Processing Record 86 of 614: Bereda\n",
      "Processing Record 87 of 614: Mackay\n",
      "Processing Record 88 of 614: Busselton\n",
      "Processing Record 89 of 614: Albany\n",
      "Processing Record 90 of 614: Santarém\n",
      "Processing Record 91 of 614: Esperance\n",
      "City not found. Skipping...\n",
      "City not found. Skipping...\n",
      "Processing Record 94 of 614: Khatanga\n",
      "Processing Record 95 of 614: Petropavlovsk-Kamchatskiy\n",
      "Processing Record 96 of 614: New Norfolk\n",
      "Processing Record 97 of 614: Saint-Joseph\n",
      "Processing Record 98 of 614: Itaituba\n",
      "City not found. Skipping...\n",
      "Processing Record 100 of 614: Butaritari\n",
      "Processing Record 101 of 614: Upernavik\n",
      "Processing Record 102 of 614: Lata\n",
      "Processing Record 103 of 614: Tabuk\n",
      "Processing Record 104 of 614: Pevek\n",
      "Processing Record 105 of 614: Port Alfred\n",
      "Processing Record 106 of 614: George Town\n",
      "Processing Record 107 of 614: Barrow\n",
      "Processing Record 108 of 614: Eyl\n",
      "Processing Record 109 of 614: Ostrovnoy\n",
      "Processing Record 110 of 614: Departamento de Maldonado\n",
      "Processing Record 111 of 614: Havre-St-Pierre\n",
      "City not found. Skipping...\n",
      "Processing Record 113 of 614: Bima\n",
      "Processing Record 114 of 614: Evensk\n",
      "Processing Record 115 of 614: Māngrol\n",
      "Processing Record 116 of 614: Airai\n",
      "Processing Record 117 of 614: Yangi Marg`ilon\n",
      "Processing Record 118 of 614: Arrondissement de Mont-de-Marsan\n",
      "Processing Record 119 of 614: Karratha\n",
      "Processing Record 120 of 614: Waconia\n",
      "Processing Record 121 of 614: Alofi\n",
      "Processing Record 122 of 614: Russell\n",
      "Processing Record 123 of 614: Avarua\n",
      "Processing Record 124 of 614: Sojat\n",
      "City not found. Skipping...\n",
      "Processing Record 126 of 614: Panzhihua\n",
      "Processing Record 127 of 614: Paamiut\n",
      "City not found. Skipping...\n",
      "Processing Record 129 of 614: Gaozhou\n",
      "Processing Record 130 of 614: Leshukonskoye\n",
      "Processing Record 131 of 614: Portland\n",
      "Processing Record 132 of 614: Souillac\n",
      "Processing Record 133 of 614: Muncie\n",
      "Processing Record 134 of 614: Castro\n",
      "Processing Record 135 of 614: Bathsheba\n",
      "Processing Record 136 of 614: Bluff\n",
      "Processing Record 137 of 614: Clarence Town\n",
      "Processing Record 138 of 614: Esim\n",
      "Processing Record 139 of 614: Hobart\n",
      "Processing Record 140 of 614: Sabha\n",
      "Processing Record 141 of 614: Kavieng\n",
      "Processing Record 142 of 614: Deggendorf\n",
      "Processing Record 143 of 614: Tuktoyaktuk\n",
      "Processing Record 144 of 614: Whitecourt\n",
      "Processing Record 145 of 614: Sylva\n",
      "Processing Record 146 of 614: Nikel\n",
      "Processing Record 147 of 614: Morón\n",
      "Processing Record 148 of 614: Birjand\n",
      "Processing Record 149 of 614: São Filipe\n",
      "City not found. Skipping...\n",
      "Processing Record 151 of 614: Olafsvik\n",
      "Processing Record 152 of 614: Leningradskiy\n",
      "Processing Record 153 of 614: Toktogul\n",
      "Processing Record 154 of 614: Meyzieu\n",
      "Processing Record 155 of 614: Moerai\n",
      "Processing Record 156 of 614: Tiksi\n",
      "Processing Record 157 of 614: Paoua\n",
      "Processing Record 158 of 614: Margate\n",
      "Processing Record 159 of 614: Beloha\n",
      "Processing Record 160 of 614: Norman Wells\n",
      "Processing Record 161 of 614: Ilulissat\n",
      "Processing Record 162 of 614: Ixmiquilpan\n",
      "Processing Record 163 of 614: Srednekolymsk\n",
      "Processing Record 164 of 614: Kutum\n",
      "Processing Record 165 of 614: Marathon\n",
      "Processing Record 166 of 614: Hangu\n",
      "Processing Record 167 of 614: Orocué\n",
      "Processing Record 168 of 614: Bonnyville\n",
      "Processing Record 169 of 614: Berlevåg\n",
      "Processing Record 170 of 614: Horta\n",
      "Processing Record 171 of 614: Pangnirtung\n",
      "Processing Record 172 of 614: Cabedelo\n",
      "City not found. Skipping...\n",
      "Processing Record 174 of 614: Sisimiut\n",
      "Processing Record 175 of 614: Broome\n",
      "Processing Record 176 of 614: Chalmette\n",
      "Processing Record 177 of 614: Alihe\n",
      "Processing Record 178 of 614: Mahébourg\n",
      "Processing Record 179 of 614: Mombetsu\n",
      "Processing Record 180 of 614: Kununurra\n",
      "Processing Record 181 of 614: Port Hardy\n",
      "Processing Record 182 of 614: Qui Nhon\n",
      "Processing Record 183 of 614: Abnūb\n",
      "Processing Record 184 of 614: Shuangyang\n",
      "Processing Record 185 of 614: Asău\n",
      "Processing Record 186 of 614: Muroto-misakicho\n",
      "City not found. Skipping...\n",
      "Processing Record 188 of 614: Longyearbyen\n",
      "Processing Record 189 of 614: Shorap’ani\n",
      "Processing Record 190 of 614: Yārāda\n",
      "Processing Record 191 of 614: Kahului\n",
      "Processing Record 192 of 614: Te Anau\n",
      "Processing Record 193 of 614: Katsuura\n",
      "Processing Record 194 of 614: Périgueux\n",
      "City not found. Skipping...\n",
      "Processing Record 196 of 614: Bambous Virieux\n",
      "Processing Record 197 of 614: Araçuaí\n",
      "Processing Record 198 of 614: Tasiilaq\n",
      "Processing Record 199 of 614: Gushikawa\n",
      "City not found. Skipping...\n",
      "Processing Record 201 of 614: Storforshei\n",
      "Processing Record 202 of 614: Lufilufi\n",
      "Processing Record 203 of 614: Temyasovo\n",
      "City not found. Skipping...\n",
      "Processing Record 205 of 614: Sørland\n",
      "Processing Record 206 of 614: Sitka\n",
      "Processing Record 207 of 614: Chumikan\n",
      "Processing Record 208 of 614: Arkul'\n",
      "Processing Record 209 of 614: Hambantota\n",
      "Processing Record 210 of 614: Lagoa\n",
      "Processing Record 211 of 614: Marietta\n",
      "Processing Record 212 of 614: Lyubashivka\n",
      "Processing Record 213 of 614: Faanui\n",
      "Processing Record 214 of 614: Touros\n",
      "Processing Record 215 of 614: Brejo\n",
      "Processing Record 216 of 614: Brae\n"
     ]
    },
    {
     "name": "stdout",
     "output_type": "stream",
     "text": [
      "Processing Record 217 of 614: Bonavista\n",
      "Processing Record 218 of 614: Bandarbeyla\n",
      "Processing Record 219 of 614: Savannah\n",
      "Processing Record 220 of 614: Pochutla\n",
      "Processing Record 221 of 614: Belyy Yar\n",
      "Processing Record 222 of 614: Aksay\n",
      "Processing Record 223 of 614: Mandsaur\n",
      "Processing Record 224 of 614: Dillon\n",
      "Processing Record 225 of 614: Saldus\n",
      "Processing Record 226 of 614: Derzhavīnsk\n",
      "Processing Record 227 of 614: Paciran\n",
      "Processing Record 228 of 614: Luau\n",
      "Processing Record 229 of 614: Totness\n",
      "Processing Record 230 of 614: Saint Paul\n",
      "Processing Record 231 of 614: Iqaluit\n",
      "Processing Record 232 of 614: Manyana\n",
      "Processing Record 233 of 614: Poum\n",
      "Processing Record 234 of 614: Mirny\n",
      "Processing Record 235 of 614: Haines Junction\n",
      "Processing Record 236 of 614: Caucaia\n",
      "Processing Record 237 of 614: Livenka\n",
      "Processing Record 238 of 614: Lebu\n",
      "Processing Record 239 of 614: Hofn\n",
      "City not found. Skipping...\n",
      "Processing Record 241 of 614: Lompoc\n",
      "Processing Record 242 of 614: Matagami\n",
      "City not found. Skipping...\n",
      "Processing Record 244 of 614: Neiafu\n",
      "Processing Record 245 of 614: Kholodnyy\n",
      "Processing Record 246 of 614: Alyangula\n",
      "Processing Record 247 of 614: Hong Kong\n",
      "Processing Record 248 of 614: Yar-Sale\n",
      "Processing Record 249 of 614: Makakilo City\n",
      "Processing Record 250 of 614: Ancud\n",
      "Processing Record 251 of 614: Cidreira\n",
      "Processing Record 252 of 614: Half Moon Bay\n",
      "Processing Record 253 of 614: Liverpool\n",
      "Processing Record 254 of 614: The Valley\n",
      "City not found. Skipping...\n",
      "Processing Record 256 of 614: Kiryat Gat\n",
      "Processing Record 257 of 614: Kamenka\n",
      "Processing Record 258 of 614: Gambēla\n",
      "Processing Record 259 of 614: Dzheguta\n",
      "Processing Record 260 of 614: Socorro\n",
      "Processing Record 261 of 614: Dingle\n",
      "Processing Record 262 of 614: Narsaq\n",
      "Processing Record 263 of 614: Newnan\n",
      "City not found. Skipping...\n",
      "Processing Record 265 of 614: Pundaguitan\n",
      "Processing Record 266 of 614: Kitimat\n",
      "City not found. Skipping...\n",
      "Processing Record 268 of 614: Necochea\n",
      "Processing Record 269 of 614: Ukiah\n",
      "Processing Record 270 of 614: Bethel\n",
      "Processing Record 271 of 614: Saint-Philippe\n",
      "Processing Record 272 of 614: Kunming\n",
      "Processing Record 273 of 614: Walvis Bay\n",
      "Processing Record 274 of 614: Barra Patuca\n",
      "Processing Record 275 of 614: Tautira\n",
      "Processing Record 276 of 614: Turan\n",
      "Processing Record 277 of 614: Chon Daen\n",
      "Processing Record 278 of 614: Agüimes\n",
      "Processing Record 279 of 614: Phan Thiet\n",
      "Processing Record 280 of 614: Shingū\n",
      "Processing Record 281 of 614: Aklavik\n",
      "Processing Record 282 of 614: Griffith\n",
      "Processing Record 283 of 614: Kozhevnikovo\n",
      "City not found. Skipping...\n",
      "Processing Record 285 of 614: Kommunar\n",
      "Processing Record 286 of 614: Dikson\n",
      "Processing Record 287 of 614: Buin\n",
      "City not found. Skipping...\n",
      "Processing Record 289 of 614: Khātra\n",
      "City not found. Skipping...\n",
      "Processing Record 291 of 614: Ust-Kuyga\n",
      "Processing Record 292 of 614: Gimli\n",
      "Processing Record 293 of 614: Durant\n",
      "Processing Record 294 of 614: Martapura\n",
      "Processing Record 295 of 614: Talakan\n",
      "Processing Record 296 of 614: Mount Isa\n",
      "Processing Record 297 of 614: Palmer\n",
      "Processing Record 298 of 614: Severo-Kuril'sk\n",
      "Processing Record 299 of 614: Jumla\n",
      "Processing Record 300 of 614: Rabo de Peixe\n",
      "Processing Record 301 of 614: Herat Province\n",
      "Processing Record 302 of 614: Corrales\n",
      "Processing Record 303 of 614: Tsybli\n",
      "Processing Record 304 of 614: São João da Barra\n",
      "Processing Record 305 of 614: Visnes\n",
      "Processing Record 306 of 614: Waidhofen\n",
      "Processing Record 307 of 614: Chokurdakh\n",
      "Processing Record 308 of 614: Lasam\n",
      "Processing Record 309 of 614: Tuatapere\n",
      "Processing Record 310 of 614: Najrān\n",
      "Processing Record 311 of 614: Kieta\n",
      "Processing Record 312 of 614: Takoradze\n",
      "City not found. Skipping...\n",
      "Processing Record 314 of 614: Talā\n",
      "City not found. Skipping...\n",
      "Processing Record 316 of 614: Hamīrpur\n",
      "Processing Record 317 of 614: Thunder Bay\n",
      "Processing Record 318 of 614: Berbera\n",
      "Processing Record 319 of 614: Nelson Bay\n",
      "Processing Record 320 of 614: Fort Nelson\n",
      "City not found. Skipping...\n",
      "Processing Record 322 of 614: Mariehamn\n",
      "Processing Record 323 of 614: Kuril'sk\n",
      "Processing Record 324 of 614: Sémbé\n",
      "Processing Record 325 of 614: Saint-Pierre\n",
      "Processing Record 326 of 614: Goroka\n",
      "Processing Record 327 of 614: Ozernovskiy\n",
      "Processing Record 328 of 614: Hithadhoo\n",
      "Processing Record 329 of 614: Faya\n",
      "Processing Record 330 of 614: Moussoro\n",
      "Processing Record 331 of 614: Namatanai\n",
      "Processing Record 332 of 614: Khovd\n",
      "Processing Record 333 of 614: Acuitzio\n",
      "Processing Record 334 of 614: Taoudenni\n",
      "Processing Record 335 of 614: Mikhaylovka\n",
      "Processing Record 336 of 614: Lamin\n",
      "Processing Record 337 of 614: Korla\n",
      "Processing Record 338 of 614: Richards Bay\n",
      "Processing Record 339 of 614: Kurihashi\n",
      "Processing Record 340 of 614: Aripuanã\n",
      "Processing Record 341 of 614: Canalete\n",
      "Processing Record 342 of 614: Saldanha\n",
      "Processing Record 343 of 614: Kjøllefjord\n",
      "Processing Record 344 of 614: Vila Praia de Âncora\n",
      "City not found. Skipping...\n",
      "Processing Record 346 of 614: Sayanogorsk\n",
      "Processing Record 347 of 614: Laas\n",
      "Processing Record 348 of 614: Katangli\n",
      "Processing Record 349 of 614: Amga\n",
      "Processing Record 350 of 614: Severobaykal'sk\n",
      "City not found. Skipping...\n",
      "Processing Record 352 of 614: Kaitangata\n",
      "Processing Record 353 of 614: Banda Aceh\n",
      "Processing Record 354 of 614: Krasnosel'kup\n",
      "Processing Record 355 of 614: San Jose\n",
      "Processing Record 356 of 614: Uvarovo\n",
      "Processing Record 357 of 614: Misratah\n",
      "Processing Record 358 of 614: Predivinsk\n",
      "Processing Record 359 of 614: Bjørnevatn\n",
      "Processing Record 360 of 614: Karīmnagar\n",
      "Processing Record 361 of 614: Ponta Delgada\n",
      "Processing Record 362 of 614: Lüderitz\n",
      "Processing Record 363 of 614: Hervey Bay\n",
      "Processing Record 364 of 614: Juneau\n",
      "Processing Record 365 of 614: Colares\n",
      "Processing Record 366 of 614: Tura\n",
      "Processing Record 367 of 614: Tambo\n",
      "Processing Record 368 of 614: Mayo\n",
      "Processing Record 369 of 614: Muli\n",
      "Processing Record 370 of 614: Prokop'yevsk\n",
      "Processing Record 371 of 614: Buta\n",
      "Processing Record 372 of 614: Palafrugell\n",
      "Processing Record 373 of 614: Acajutla\n",
      "Processing Record 374 of 614: Fairbanks\n",
      "Processing Record 375 of 614: Vicuña\n",
      "Processing Record 376 of 614: Iwata\n",
      "Processing Record 377 of 614: Aberdeen\n",
      "Processing Record 378 of 614: Buala\n",
      "Processing Record 379 of 614: Gamba\n",
      "Processing Record 380 of 614: Oodweyne\n",
      "Processing Record 381 of 614: Verkhoyansk\n",
      "Processing Record 382 of 614: Tartagal\n",
      "Processing Record 383 of 614: Zhigansk\n",
      "Processing Record 384 of 614: Grindavik\n",
      "City not found. Skipping...\n",
      "Processing Record 386 of 614: Rawson\n",
      "Processing Record 387 of 614: Inongo\n",
      "Processing Record 388 of 614: Taft\n",
      "Processing Record 389 of 614: Penzance\n",
      "Processing Record 390 of 614: Jining\n",
      "Processing Record 391 of 614: Vardø\n",
      "Processing Record 392 of 614: Khromtau\n",
      "Processing Record 393 of 614: At-Bashi\n",
      "Processing Record 394 of 614: Los Angeles\n",
      "Processing Record 395 of 614: Mkushi\n",
      "Processing Record 396 of 614: Okahandja\n",
      "Processing Record 397 of 614: Sangar\n",
      "Processing Record 398 of 614: Camacha\n",
      "Processing Record 399 of 614: Ormara\n",
      "Processing Record 400 of 614: Simao\n",
      "Processing Record 401 of 614: Cairns\n",
      "Processing Record 402 of 614: Henties Bay\n",
      "Processing Record 403 of 614: Tehachapi\n",
      "Processing Record 404 of 614: Itarema\n",
      "Processing Record 405 of 614: Marawi\n",
      "Processing Record 406 of 614: Teeli\n",
      "Processing Record 407 of 614: Nanortalik\n",
      "Processing Record 408 of 614: Atascadero\n",
      "Processing Record 409 of 614: Severo-Yeniseyskiy\n",
      "Processing Record 410 of 614: Jizan\n",
      "Processing Record 411 of 614: Cavalcante\n",
      "Processing Record 412 of 614: Marabá\n",
      "Processing Record 413 of 614: Tocopilla\n",
      "Processing Record 414 of 614: Mana\n",
      "Processing Record 415 of 614: Oban\n",
      "Processing Record 416 of 614: Nome\n",
      "City not found. Skipping...\n",
      "Processing Record 418 of 614: Wajid\n",
      "Processing Record 419 of 614: Acaraú\n",
      "Processing Record 420 of 614: Kavaratti\n",
      "Processing Record 421 of 614: Vila Velha\n",
      "Processing Record 422 of 614: Vestmannaeyjar\n",
      "Processing Record 423 of 614: Beringovskiy\n",
      "Processing Record 424 of 614: Kilindoni\n",
      "Processing Record 425 of 614: Kítros\n",
      "Processing Record 426 of 614: Imbituba\n",
      "Processing Record 427 of 614: Falam\n",
      "Processing Record 428 of 614: Fuerte Olimpo\n",
      "City not found. Skipping...\n",
      "City not found. Skipping...\n",
      "Processing Record 431 of 614: Aykhal\n",
      "Processing Record 432 of 614: Marzuq\n",
      "Processing Record 433 of 614: Xinzhi\n"
     ]
    },
    {
     "name": "stdout",
     "output_type": "stream",
     "text": [
      "Processing Record 434 of 614: Sioux Lookout\n",
      "Processing Record 435 of 614: Glendive\n",
      "Processing Record 436 of 614: Togur\n",
      "Processing Record 437 of 614: Khao Wong\n",
      "Processing Record 438 of 614: Katobu\n",
      "City not found. Skipping...\n",
      "Processing Record 440 of 614: Vanimo\n",
      "Processing Record 441 of 614: Okoneshnikovo\n",
      "Processing Record 442 of 614: Kwang Binh\n",
      "Processing Record 443 of 614: Maple Creek\n",
      "Processing Record 444 of 614: Kimbe\n",
      "Processing Record 445 of 614: Tinogboc\n",
      "City not found. Skipping...\n",
      "Processing Record 447 of 614: Fatehpur\n",
      "Processing Record 448 of 614: Boden\n",
      "Processing Record 449 of 614: Rabaul\n",
      "Processing Record 450 of 614: Arrondissement de Muret\n",
      "Processing Record 451 of 614: Yerbogachën\n",
      "Processing Record 452 of 614: Trat\n",
      "Processing Record 453 of 614: Upata\n",
      "Processing Record 454 of 614: Guangyuan\n",
      "City not found. Skipping...\n",
      "Processing Record 456 of 614: Solrød\n",
      "Processing Record 457 of 614: Dawei\n",
      "Processing Record 458 of 614: Xichang\n",
      "Processing Record 459 of 614: Constitución\n",
      "Processing Record 460 of 614: Daru\n",
      "Processing Record 461 of 614: Isiro\n",
      "Processing Record 462 of 614: Kambove\n",
      "Processing Record 463 of 614: Saint-Augustin\n",
      "Processing Record 464 of 614: Oistins\n",
      "Processing Record 465 of 614: Ruska Poliana\n",
      "Processing Record 466 of 614: Mackenzie\n",
      "Processing Record 467 of 614: Port Blair\n",
      "Processing Record 468 of 614: Lethem\n",
      "Processing Record 469 of 614: Ossora\n",
      "Processing Record 470 of 614: Trairi\n",
      "Processing Record 471 of 614: De-Kastri\n",
      "Processing Record 472 of 614: Coyhaique\n",
      "Processing Record 473 of 614: Yermakovskoye\n",
      "Processing Record 474 of 614: Tunduma\n",
      "Processing Record 475 of 614: Belaya Gora\n",
      "Processing Record 476 of 614: San Cristobal\n",
      "City not found. Skipping...\n",
      "Processing Record 478 of 614: Lashio\n",
      "Processing Record 479 of 614: Degtyarsk\n",
      "Processing Record 480 of 614: Paraty\n",
      "Processing Record 481 of 614: Salym\n",
      "Processing Record 482 of 614: Clyde River\n",
      "Processing Record 483 of 614: Miles City\n",
      "Processing Record 484 of 614: Virginia Beach\n",
      "Processing Record 485 of 614: Voh\n",
      "Processing Record 486 of 614: Vila Franca do Campo\n",
      "Processing Record 487 of 614: Nizwá\n",
      "Processing Record 488 of 614: Norrtälje\n",
      "Processing Record 489 of 614: Bontang\n",
      "Processing Record 490 of 614: San Patricio\n",
      "Processing Record 491 of 614: Antalaha\n",
      "Processing Record 492 of 614: Wahpeton\n",
      "Processing Record 493 of 614: Wolgast\n",
      "Processing Record 494 of 614: Samarai\n",
      "Processing Record 495 of 614: Serenje\n",
      "Processing Record 496 of 614: Porto Murtinho\n",
      "Processing Record 497 of 614: Novaya Ladoga\n",
      "Processing Record 498 of 614: Oktyabr'skoye\n",
      "Processing Record 499 of 614: High Rock\n",
      "Processing Record 500 of 614: Seydişehir\n",
      "Processing Record 501 of 614: Akle\n",
      "Processing Record 502 of 614: Talcahuano\n",
      "Processing Record 503 of 614: Maţāy\n",
      "Processing Record 504 of 614: Havelock\n",
      "Processing Record 505 of 614: Nyalikungu\n",
      "Processing Record 506 of 614: Lorengau\n",
      "Processing Record 507 of 614: Prince Rupert\n",
      "Processing Record 508 of 614: Comodoro Rivadavia\n",
      "Processing Record 509 of 614: Poconé\n",
      "Processing Record 510 of 614: Caravelas\n",
      "Processing Record 511 of 614: Bubaque\n",
      "Processing Record 512 of 614: Batticaloa\n",
      "City not found. Skipping...\n",
      "Processing Record 514 of 614: Pandan\n",
      "Processing Record 515 of 614: Linxia Chengguanzhen\n",
      "Processing Record 516 of 614: Coahuayana Viejo\n",
      "Processing Record 517 of 614: Khandyga\n",
      "Processing Record 518 of 614: Tuy Hoa\n",
      "Processing Record 519 of 614: Mollendo\n",
      "Processing Record 520 of 614: Diffa\n",
      "City not found. Skipping...\n",
      "Processing Record 522 of 614: Finschhafen\n",
      "Processing Record 523 of 614: Gondanglegi\n",
      "Processing Record 524 of 614: Bolotnoye\n",
      "City not found. Skipping...\n",
      "Processing Record 526 of 614: Okhotsk\n",
      "Processing Record 527 of 614: Avera\n",
      "Processing Record 528 of 614: Northam\n",
      "Processing Record 529 of 614: Baniachang\n",
      "Processing Record 530 of 614: Chui\n",
      "Processing Record 531 of 614: Karabulak\n",
      "Processing Record 532 of 614: Keshorai Pātan\n",
      "Processing Record 533 of 614: Otavi\n",
      "Processing Record 534 of 614: Kulhudhuffushi\n",
      "Processing Record 535 of 614: Ratnagiri\n",
      "Processing Record 536 of 614: Jacareacanga\n",
      "Processing Record 537 of 614: Bridlington\n",
      "Processing Record 538 of 614: Salinas\n",
      "City not found. Skipping...\n",
      "Processing Record 540 of 614: Rincon\n",
      "Processing Record 541 of 614: Soubre\n",
      "Processing Record 542 of 614: Austin\n",
      "Processing Record 543 of 614: Várzea da Palma\n",
      "Processing Record 544 of 614: Atar\n",
      "Processing Record 545 of 614: Coffs Harbour\n",
      "Processing Record 546 of 614: Seddon\n",
      "Processing Record 547 of 614: Radviliškis\n",
      "Processing Record 548 of 614: Pudozh\n",
      "Processing Record 549 of 614: Boende\n",
      "Processing Record 550 of 614: Arkhangelskaya\n",
      "Processing Record 551 of 614: Rocha\n",
      "Processing Record 552 of 614: Fort Frances\n",
      "City not found. Skipping...\n",
      "Processing Record 554 of 614: Port-Cartier\n",
      "Processing Record 555 of 614: Merauke\n",
      "Processing Record 556 of 614: Tall Kayf\n",
      "Processing Record 557 of 614: Meulaboh\n",
      "Processing Record 558 of 614: Mount Gambier\n",
      "Processing Record 559 of 614: Umeå\n",
      "Processing Record 560 of 614: Zaritap\n",
      "Processing Record 561 of 614: Jalu\n",
      "Processing Record 562 of 614: Espera Feliz\n",
      "Processing Record 563 of 614: Baruun-Urt\n",
      "Processing Record 564 of 614: Zitacuaro\n",
      "City not found. Skipping...\n",
      "Processing Record 566 of 614: Piterka\n",
      "Processing Record 567 of 614: Marsá Maţrūḩ\n",
      "Processing Record 568 of 614: Carnarvon\n",
      "Processing Record 569 of 614: Zyryanovsk\n",
      "Processing Record 570 of 614: Port Lincoln\n",
      "Processing Record 571 of 614: Coruripe\n",
      "Processing Record 572 of 614: Fare\n",
      "Processing Record 573 of 614: Bandar-e Lengeh\n",
      "Processing Record 574 of 614: Vakhsh\n",
      "Processing Record 575 of 614: Halifax\n",
      "Processing Record 576 of 614: Belmonte\n",
      "City not found. Skipping...\n",
      "Processing Record 578 of 614: Cayenne\n",
      "City not found. Skipping...\n",
      "Processing Record 580 of 614: Pacific Grove\n",
      "Processing Record 581 of 614: Anantnag\n",
      "Processing Record 582 of 614: Cockburn Town\n",
      "City not found. Skipping...\n",
      "Processing Record 584 of 614: Moree\n",
      "Processing Record 585 of 614: Fukuechō\n",
      "Processing Record 586 of 614: Ondjiva\n",
      "Processing Record 587 of 614: Illapel\n",
      "Processing Record 588 of 614: Sobolevo\n",
      "Processing Record 589 of 614: Vaitape\n",
      "Processing Record 590 of 614: Maniitsoq\n",
      "Processing Record 591 of 614: Kruisfontein\n",
      "Processing Record 592 of 614: Banjarmasin\n",
      "Processing Record 593 of 614: Goderich\n",
      "Processing Record 594 of 614: Santo Augusto\n",
      "Processing Record 595 of 614: Bafra\n",
      "Processing Record 596 of 614: Alveringem\n",
      "Processing Record 597 of 614: Jinka\n",
      "City not found. Skipping...\n",
      "Processing Record 599 of 614: Nagornyy\n",
      "Processing Record 600 of 614: Xicoténcatl\n",
      "Processing Record 601 of 614: Nong Kung Si\n",
      "Processing Record 602 of 614: Bulawayo\n",
      "Processing Record 603 of 614: Kyshtovka\n",
      "Processing Record 604 of 614: Moose Factory\n",
      "Processing Record 605 of 614: Paraná\n",
      "City not found. Skipping...\n",
      "Processing Record 607 of 614: Suleja\n",
      "Processing Record 608 of 614: Honiara\n",
      "Processing Record 609 of 614: Vanavara\n",
      "Processing Record 610 of 614: Yur’yevets\n",
      "Processing Record 611 of 614: Qasigiannguit\n",
      "Processing Record 612 of 614: Port Hedland\n",
      "Processing Record 613 of 614: North Bend\n",
      "Processing Record 614 of 614: Los Llanos de Aridane\n",
      "-----------------------------\n",
      "Data Retrieval Complete\n",
      "-----------------------------\n"
     ]
    }
   ],
   "source": [
    "# empty arrays to be appended\n",
    "city = []\n",
    "cloudiness = []\n",
    "country = []\n",
    "date = []\n",
    "humidity = []\n",
    "lat = []\n",
    "lng = []\n",
    "max_temp = []\n",
    "wind_speed = []\n",
    "\n",
    "# base url\n",
    "url = \"http://api.openweathermap.org/data/2.5/weather?\"\n",
    "units = \"imperial\"\n",
    "\n",
    "# start of the print\n",
    "print(\"Beginning Data Retrieval\")\n",
    "print(\"-----------------------------\")\n",
    "\n",
    "# start counter\n",
    "count = 0\n",
    "\n",
    "for citi in cities:\n",
    "    # Build query URL\n",
    "    query_url = f\"{url}appid={weather_api_key}&q={citi}&units={units}\"\n",
    "    \n",
    "    # Get weather data\n",
    "    weather_json = requests.get(query_url).json()\n",
    "    \n",
    "    # increase count\n",
    "    count += 1\n",
    "\n",
    "    try:\n",
    "        #print city name\n",
    "        name = weather_json[\"name\"]\n",
    "        print(f\"Processing Record {count} of {len(cities)}: {name}\")\n",
    "        \n",
    "        #append arrays\n",
    "        city.append(weather_json[\"name\"])\n",
    "        cloudiness.append(weather_json[\"clouds\"][\"all\"])\n",
    "        country.append(weather_json[\"sys\"][\"country\"])\n",
    "        date.append(weather_json[\"dt\"])\n",
    "        humidity.append(weather_json[\"main\"][\"humidity\"])\n",
    "        max_temp.append(weather_json[\"main\"][\"temp_max\"])\n",
    "        wind_speed.append(weather_json[\"wind\"][\"speed\"])\n",
    "        lat.append(weather_json[\"coord\"][\"lat\"])\n",
    "        lng.append(weather_json[\"coord\"][\"lon\"])\n",
    "        \n",
    "    except:\n",
    "        print(\"City not found. Skipping...\")\n",
    "    \n",
    "print(\"-----------------------------\")\n",
    "print(\"Data Retrieval Complete\")\n",
    "print(\"-----------------------------\")"
   ]
  },
  {
   "cell_type": "markdown",
   "metadata": {},
   "source": [
    "### Convert Raw Data to DataFrame\n",
    "* Export the city data into a .csv.\n",
    "* Display the DataFrame"
   ]
  },
  {
   "cell_type": "code",
   "execution_count": 4,
   "metadata": {},
   "outputs": [
    {
     "data": {
      "text/plain": [
       "City               562\n",
       "Country            562\n",
       "Date               562\n",
       "Latitude           562\n",
       "Longitude          562\n",
       "Cloudiness         562\n",
       "Humidity           562\n",
       "Max Temperature    562\n",
       "Wind Speed         562\n",
       "dtype: int64"
      ]
     },
     "execution_count": 4,
     "metadata": {},
     "output_type": "execute_result"
    }
   ],
   "source": [
    "# to convert timestamp to regular date\n",
    "from datetime import datetime\n",
    "\n",
    "converted_date = []\n",
    "\n",
    "for dt in date:\n",
    "    converted_date.append(datetime.fromtimestamp(dt))\n",
    "    \n",
    "\n",
    "# read csv file\n",
    "df = pd.DataFrame({\n",
    "    \"City\": city,\n",
    "    \"Country\": country,\n",
    "    \"Date\": converted_date,\n",
    "    \"Latitude\": lat,\n",
    "    \"Longitude\": lng,\n",
    "    \"Cloudiness\": cloudiness,\n",
    "    \"Humidity\": humidity,\n",
    "    \"Max Temperature\": max_temp,\n",
    "    \"Wind Speed\": wind_speed\n",
    "})\n",
    "\n",
    "# save data frame as csv\n",
    "df.to_csv(\"../output_data/cities.csv\", encoding='utf-8', index=False)\n",
    "\n",
    "# view number of items per column\n",
    "df.count()"
   ]
  },
  {
   "cell_type": "code",
   "execution_count": 5,
   "metadata": {
    "scrolled": true
   },
   "outputs": [
    {
     "data": {
      "text/html": [
       "<div>\n",
       "<style scoped>\n",
       "    .dataframe tbody tr th:only-of-type {\n",
       "        vertical-align: middle;\n",
       "    }\n",
       "\n",
       "    .dataframe tbody tr th {\n",
       "        vertical-align: top;\n",
       "    }\n",
       "\n",
       "    .dataframe thead th {\n",
       "        text-align: right;\n",
       "    }\n",
       "</style>\n",
       "<table border=\"1\" class=\"dataframe\">\n",
       "  <thead>\n",
       "    <tr style=\"text-align: right;\">\n",
       "      <th></th>\n",
       "      <th>City</th>\n",
       "      <th>Country</th>\n",
       "      <th>Date</th>\n",
       "      <th>Latitude</th>\n",
       "      <th>Longitude</th>\n",
       "      <th>Cloudiness</th>\n",
       "      <th>Humidity</th>\n",
       "      <th>Max Temperature</th>\n",
       "      <th>Wind Speed</th>\n",
       "    </tr>\n",
       "  </thead>\n",
       "  <tbody>\n",
       "    <tr>\n",
       "      <td>0</td>\n",
       "      <td>Puerto Escondido</td>\n",
       "      <td>MX</td>\n",
       "      <td>2020-03-17 19:51:13</td>\n",
       "      <td>15.85</td>\n",
       "      <td>-97.07</td>\n",
       "      <td>40</td>\n",
       "      <td>74</td>\n",
       "      <td>86.00</td>\n",
       "      <td>9.17</td>\n",
       "    </tr>\n",
       "    <tr>\n",
       "      <td>1</td>\n",
       "      <td>Hermanus</td>\n",
       "      <td>ZA</td>\n",
       "      <td>2020-03-17 19:49:13</td>\n",
       "      <td>-34.42</td>\n",
       "      <td>19.23</td>\n",
       "      <td>2</td>\n",
       "      <td>92</td>\n",
       "      <td>63.00</td>\n",
       "      <td>1.14</td>\n",
       "    </tr>\n",
       "    <tr>\n",
       "      <td>2</td>\n",
       "      <td>Inhambane</td>\n",
       "      <td>MZ</td>\n",
       "      <td>2020-03-17 19:50:20</td>\n",
       "      <td>-23.86</td>\n",
       "      <td>35.38</td>\n",
       "      <td>25</td>\n",
       "      <td>77</td>\n",
       "      <td>74.03</td>\n",
       "      <td>14.16</td>\n",
       "    </tr>\n",
       "    <tr>\n",
       "      <td>3</td>\n",
       "      <td>Ponta do Sol</td>\n",
       "      <td>PT</td>\n",
       "      <td>2020-03-17 19:49:18</td>\n",
       "      <td>32.67</td>\n",
       "      <td>-17.10</td>\n",
       "      <td>40</td>\n",
       "      <td>67</td>\n",
       "      <td>59.00</td>\n",
       "      <td>21.92</td>\n",
       "    </tr>\n",
       "    <tr>\n",
       "      <td>4</td>\n",
       "      <td>Rikitea</td>\n",
       "      <td>PF</td>\n",
       "      <td>2020-03-17 19:49:09</td>\n",
       "      <td>-23.12</td>\n",
       "      <td>-134.97</td>\n",
       "      <td>4</td>\n",
       "      <td>78</td>\n",
       "      <td>80.71</td>\n",
       "      <td>11.90</td>\n",
       "    </tr>\n",
       "    <tr>\n",
       "      <td>...</td>\n",
       "      <td>...</td>\n",
       "      <td>...</td>\n",
       "      <td>...</td>\n",
       "      <td>...</td>\n",
       "      <td>...</td>\n",
       "      <td>...</td>\n",
       "      <td>...</td>\n",
       "      <td>...</td>\n",
       "      <td>...</td>\n",
       "    </tr>\n",
       "    <tr>\n",
       "      <td>557</td>\n",
       "      <td>Yur’yevets</td>\n",
       "      <td>RU</td>\n",
       "      <td>2020-03-17 19:51:48</td>\n",
       "      <td>57.32</td>\n",
       "      <td>43.10</td>\n",
       "      <td>72</td>\n",
       "      <td>97</td>\n",
       "      <td>33.12</td>\n",
       "      <td>9.24</td>\n",
       "    </tr>\n",
       "    <tr>\n",
       "      <td>558</td>\n",
       "      <td>Qasigiannguit</td>\n",
       "      <td>GL</td>\n",
       "      <td>2020-03-17 19:49:17</td>\n",
       "      <td>68.82</td>\n",
       "      <td>-51.19</td>\n",
       "      <td>96</td>\n",
       "      <td>59</td>\n",
       "      <td>3.20</td>\n",
       "      <td>21.92</td>\n",
       "    </tr>\n",
       "    <tr>\n",
       "      <td>559</td>\n",
       "      <td>Port Hedland</td>\n",
       "      <td>AU</td>\n",
       "      <td>2020-03-17 19:49:45</td>\n",
       "      <td>-20.32</td>\n",
       "      <td>118.57</td>\n",
       "      <td>0</td>\n",
       "      <td>74</td>\n",
       "      <td>84.20</td>\n",
       "      <td>3.36</td>\n",
       "    </tr>\n",
       "    <tr>\n",
       "      <td>560</td>\n",
       "      <td>North Bend</td>\n",
       "      <td>US</td>\n",
       "      <td>2020-03-17 19:51:49</td>\n",
       "      <td>43.41</td>\n",
       "      <td>-124.22</td>\n",
       "      <td>90</td>\n",
       "      <td>87</td>\n",
       "      <td>52.00</td>\n",
       "      <td>8.05</td>\n",
       "    </tr>\n",
       "    <tr>\n",
       "      <td>561</td>\n",
       "      <td>Los Llanos de Aridane</td>\n",
       "      <td>ES</td>\n",
       "      <td>2020-03-17 19:49:11</td>\n",
       "      <td>28.66</td>\n",
       "      <td>-17.92</td>\n",
       "      <td>20</td>\n",
       "      <td>77</td>\n",
       "      <td>60.80</td>\n",
       "      <td>13.87</td>\n",
       "    </tr>\n",
       "  </tbody>\n",
       "</table>\n",
       "<p>562 rows × 9 columns</p>\n",
       "</div>"
      ],
      "text/plain": [
       "                      City Country                Date  Latitude  Longitude  \\\n",
       "0         Puerto Escondido      MX 2020-03-17 19:51:13     15.85     -97.07   \n",
       "1                 Hermanus      ZA 2020-03-17 19:49:13    -34.42      19.23   \n",
       "2                Inhambane      MZ 2020-03-17 19:50:20    -23.86      35.38   \n",
       "3             Ponta do Sol      PT 2020-03-17 19:49:18     32.67     -17.10   \n",
       "4                  Rikitea      PF 2020-03-17 19:49:09    -23.12    -134.97   \n",
       "..                     ...     ...                 ...       ...        ...   \n",
       "557             Yur’yevets      RU 2020-03-17 19:51:48     57.32      43.10   \n",
       "558          Qasigiannguit      GL 2020-03-17 19:49:17     68.82     -51.19   \n",
       "559           Port Hedland      AU 2020-03-17 19:49:45    -20.32     118.57   \n",
       "560             North Bend      US 2020-03-17 19:51:49     43.41    -124.22   \n",
       "561  Los Llanos de Aridane      ES 2020-03-17 19:49:11     28.66     -17.92   \n",
       "\n",
       "     Cloudiness  Humidity  Max Temperature  Wind Speed  \n",
       "0            40        74            86.00        9.17  \n",
       "1             2        92            63.00        1.14  \n",
       "2            25        77            74.03       14.16  \n",
       "3            40        67            59.00       21.92  \n",
       "4             4        78            80.71       11.90  \n",
       "..          ...       ...              ...         ...  \n",
       "557          72        97            33.12        9.24  \n",
       "558          96        59             3.20       21.92  \n",
       "559           0        74            84.20        3.36  \n",
       "560          90        87            52.00        8.05  \n",
       "561          20        77            60.80       13.87  \n",
       "\n",
       "[562 rows x 9 columns]"
      ]
     },
     "execution_count": 5,
     "metadata": {},
     "output_type": "execute_result"
    }
   ],
   "source": [
    "# print data frame\n",
    "df"
   ]
  },
  {
   "cell_type": "markdown",
   "metadata": {},
   "source": [
    "### Plotting the Data\n",
    "* Use proper labeling of the plots using plot titles (including date of analysis) and axes labels.\n",
    "* Save the plotted figures as .pngs."
   ]
  },
  {
   "cell_type": "markdown",
   "metadata": {},
   "source": [
    "#### Latitude vs. Temperature Plot"
   ]
  },
  {
   "cell_type": "code",
   "execution_count": 6,
   "metadata": {
    "scrolled": true
   },
   "outputs": [
    {
     "data": {
      "image/png": "[encoded data removed]",
      "text/plain": [
       "<Figure size 432x288 with 1 Axes>"
      ]
     },
     "metadata": {
      "needs_background": "light"
     },
     "output_type": "display_data"
    }
   ],
   "source": [
    "# create scatter plot\n",
    "plt.scatter(df[\"Latitude\"], df[\"Max Temperature\"])\n",
    "\n",
    "# add labels and title\n",
    "plt.title(f\"City Latitude vs. Max Temperature {converted_date[0]}\")\n",
    "plt.xlabel(\"Latitude\")\n",
    "plt.ylabel(\"Max Temperature (F)\")\n",
    "\n",
    "# add grid lines\n",
    "plt.grid()\n",
    "\n",
    "# show and save pic\n",
    "plt.savefig(\"../output_data/1LatvTemp.png\")\n",
    "plt.show()"
   ]
  },
  {
   "cell_type": "markdown",
   "metadata": {},
   "source": [
    "#### Latitude vs. Humidity Plot"
   ]
  },
  {
   "cell_type": "markdown",
   "metadata": {},
   "source": [
    "## Graph Explanation\n",
    "This scatterplot shows the relationship between the max temperature (F) in each city based on its latitude. Based on the results, it seems the closer you get to the equator the hotter it gets, and the further away, the colder it gets."
   ]
  },
  {
   "cell_type": "code",
   "execution_count": 7,
   "metadata": {
    "scrolled": true
   },
   "outputs": [
    {
     "data": {
      "image/png": "[encoded data removed]",
      "text/plain": [
       "<Figure size 432x288 with 1 Axes>"
      ]
     },
     "metadata": {
      "needs_background": "light"
     },
     "output_type": "display_data"
    }
   ],
   "source": [
    "# create scatter plot\n",
    "plt.scatter(df[\"Latitude\"], df[\"Humidity\"])\n",
    "\n",
    "# add labels and title\n",
    "plt.title(f\"City Latitude vs. Humidity {converted_date[0]}\")\n",
    "plt.xlabel(\"Latitude\")\n",
    "plt.ylabel(\"Humidity (%)\")\n",
    "\n",
    "# add grid lines\n",
    "plt.grid()\n",
    "\n",
    "# show and save pic\n",
    "plt.savefig(\"../output_data/2LatvHumid.png\")\n",
    "plt.show()"
   ]
  },
  {
   "cell_type": "markdown",
   "metadata": {},
   "source": [
    "## Graph Explanation\n",
    "This scatterplot shows the relationship between the humidity (%) in each city based on its latitude. Based on the results, it does not seem that latitude affects humidity since the data points are all over the place."
   ]
  },
  {
   "cell_type": "markdown",
   "metadata": {},
   "source": [
    "#### Latitude vs. Cloudiness Plot"
   ]
  },
  {
   "cell_type": "code",
   "execution_count": 8,
   "metadata": {
    "scrolled": true
   },
   "outputs": [
    {
     "data": {
      "image/png": "[encoded data removed]",
      "text/plain": [
       "<Figure size 432x288 with 1 Axes>"
      ]
     },
     "metadata": {
      "needs_background": "light"
     },
     "output_type": "display_data"
    }
   ],
   "source": [
    "# create scatter plot\n",
    "plt.scatter(df[\"Latitude\"], df[\"Cloudiness\"])\n",
    "\n",
    "# add labels and title\n",
    "plt.title(f\"City Latitude vs. Cloudiness {converted_date[0]}\")\n",
    "plt.xlabel(\"Latitude\")\n",
    "plt.ylabel(\"Cloudiness (%)\")\n",
    "\n",
    "# add grid lines\n",
    "plt.grid()\n",
    "\n",
    "# show and save pic\n",
    "plt.savefig(\"../output_data/3LatvCloud.png\")\n",
    "plt.show()"
   ]
  },
  {
   "cell_type": "markdown",
   "metadata": {},
   "source": [
    "## Graph Explanation\n",
    "This scatterplot shows the relationship between the cloudiness (%) in each city based on its latitude. Based on the results, it does not seem that latitude affects cloudiness since the data points are all over the place."
   ]
  },
  {
   "cell_type": "markdown",
   "metadata": {},
   "source": [
    "#### Latitude vs. Wind Speed Plot"
   ]
  },
  {
   "cell_type": "code",
   "execution_count": 9,
   "metadata": {},
   "outputs": [
    {
     "data": {
      "image/png": "[encoded data removed]",
      "text/plain": [
       "<Figure size 432x288 with 1 Axes>"
      ]
     },
     "metadata": {
      "needs_background": "light"
     },
     "output_type": "display_data"
    }
   ],
   "source": [
    "# create scatter plot\n",
    "plt.scatter(df[\"Latitude\"], df[\"Wind Speed\"])\n",
    "\n",
    "# add labels and title\n",
    "plt.title(f\"City Latitude vs. Wind Speed {converted_date[0]}\")\n",
    "plt.xlabel(\"Latitude\")\n",
    "plt.ylabel(\"Wind Speed (mph)\")\n",
    "\n",
    "# add grid lines\n",
    "plt.grid()\n",
    "\n",
    "# show and save pic\n",
    "plt.savefig(\"../output_data/4LatvWind.png\")\n",
    "plt.show()"
   ]
  },
  {
   "cell_type": "markdown",
   "metadata": {},
   "source": [
    "## Graph Explanation\n",
    "This scatterplot shows the relationship between the wind speed (mph) in each city based on its latitude. Based on the results, it does not seem that latitude affects wind speed since the data points are all over the place."
   ]
  },
  {
   "cell_type": "markdown",
   "metadata": {},
   "source": [
    "## Linear Regression"
   ]
  },
  {
   "cell_type": "code",
   "execution_count": 10,
   "metadata": {},
   "outputs": [
    {
     "name": "stdout",
     "output_type": "stream",
     "text": [
      "391\n",
      "171\n"
     ]
    }
   ],
   "source": [
    "# x axis for noth and souht\n",
    "nx_values = []\n",
    "sx_values = []\n",
    "\n",
    "# y axis for temp\n",
    "ny_values = []\n",
    "sy_values = []\n",
    "\n",
    "# y axis for humidity\n",
    "nhy_values = []\n",
    "shy_values = []\n",
    "\n",
    "# y axis for cloudiness\n",
    "ncy_values = []\n",
    "scy_values = []\n",
    "\n",
    "# y axis for wind speed\n",
    "nwy_values = []\n",
    "swy_values = []\n",
    "\n",
    "# create index\n",
    "indexes = range(0, len(df[\"City\"]))\n",
    "\n",
    "# append arrays\n",
    "for index in indexes:\n",
    "    if df[\"Latitude\"][index] >= 0:\n",
    "        nx_values.append(df[\"Latitude\"][index])\n",
    "        ny_values.append(df[\"Max Temperature\"][index])\n",
    "        nhy_values.append(df[\"Humidity\"][index])\n",
    "        ncy_values.append(df[\"Cloudiness\"][index])\n",
    "        nwy_values.append(df[\"Wind Speed\"][index])\n",
    "    if df[\"Latitude\"][index] < 0:\n",
    "        sx_values.append(df[\"Latitude\"][index])\n",
    "        sy_values.append(df[\"Max Temperature\"][index])\n",
    "        shy_values.append(df[\"Humidity\"][index])\n",
    "        scy_values.append(df[\"Cloudiness\"][index])\n",
    "        swy_values.append(df[\"Wind Speed\"][index])\n",
    "        \n",
    "# convert all array values from float to integer\n",
    "nx_values = np.array(nx_values, dtype = \"int\")\n",
    "sx_values = np.array(sx_values, dtype = \"int\")\n",
    "ny_values = np.array(ny_values, dtype = \"int\")\n",
    "sy_values = np.array(sy_values, dtype = \"int\")\n",
    "nhy_values = np.array(nhy_values, dtype = \"int\")\n",
    "shy_values = np.array(shy_values, dtype = \"int\")\n",
    "ncy_values = np.array(ncy_values, dtype = \"int\")\n",
    "scy_values = np.array(scy_values, dtype = \"int\")\n",
    "nwy_values = np.array(nwy_values, dtype = \"int\")\n",
    "swy_values = np.array(swy_values, dtype = \"int\")\n",
    "\n",
    "print(len(nx_values))\n",
    "print(len(sx_values))"
   ]
  },
  {
   "cell_type": "markdown",
   "metadata": {},
   "source": [
    "####  Northern Hemisphere - Max Temp vs. Latitude Linear Regression"
   ]
  },
  {
   "cell_type": "code",
   "execution_count": 12,
   "metadata": {},
   "outputs": [
    {
     "name": "stdout",
     "output_type": "stream",
     "text": [
      "The r-squared is: -0.8851867037343792\n"
     ]
    },
    {
     "data": {
      "image/png": "[encoded data removed]",
      "text/plain": [
       "<Figure size 432x288 with 1 Axes>"
      ]
     },
     "metadata": {
      "needs_background": "light"
     },
     "output_type": "display_data"
    }
   ],
   "source": [
    "(slope, intercept, rvalue, pvalue, stderr) = linregress(nx_values, ny_values)\n",
    "regress_values = nx_values * slope + intercept\n",
    "line_eq = \"y = \" + str(round(slope,2)) + \"x + \" + str(round(intercept,2))\n",
    "plt.scatter(nx_values, ny_values)\n",
    "plt.plot(nx_values,regress_values,\"r-\")\n",
    "plt.annotate(line_eq,(6,10),fontsize=15,color=\"red\")\n",
    "plt.title(\"Northern Latitude Cities vs. Max Temperature\")\n",
    "plt.xlabel(\"Latitude\")\n",
    "plt.ylabel(\"Max Temperature (F)\")\n",
    "print(f\"The r-squared is: {rvalue}\")\n",
    "\n",
    "# show and save pic\n",
    "plt.savefig(\"../output_data/5NLatvTemp.png\")\n",
    "plt.show()"
   ]
  },
  {
   "cell_type": "markdown",
   "metadata": {},
   "source": [
    "####  Southern Hemisphere - Max Temp vs. Latitude Linear Regression"
   ]
  },
  {
   "cell_type": "code",
   "execution_count": 14,
   "metadata": {
    "scrolled": true
   },
   "outputs": [
    {
     "name": "stdout",
     "output_type": "stream",
     "text": [
      "The r-squared is: 0.6081365853134633\n"
     ]
    },
    {
     "data": {
      "image/png": "[encoded data removed]",
      "text/plain": [
       "<Figure size 432x288 with 1 Axes>"
      ]
     },
     "metadata": {
      "needs_background": "light"
     },
     "output_type": "display_data"
    }
   ],
   "source": [
    "(slope, intercept, rvalue, pvalue, stderr) = linregress(sx_values, sy_values)\n",
    "regress_values = sx_values * slope + intercept\n",
    "line_eq = \"y = \" + str(round(slope,2)) + \"x + \" + str(round(intercept,2))\n",
    "plt.scatter(sx_values, sy_values)\n",
    "plt.plot(sx_values,regress_values,\"r-\")\n",
    "plt.annotate(line_eq,(-30,50),fontsize=15,color=\"red\")\n",
    "plt.title(\"Southern Latitude Cities vs. Max Temperature\")\n",
    "plt.xlabel(\"Latitude\")\n",
    "plt.ylabel(\"Max Temperature (F)\")\n",
    "print(f\"The r-squared is: {rvalue}\")\n",
    "\n",
    "# show and save pic\n",
    "plt.savefig(\"../output_data/6SLatvTemp.png\")\n",
    "plt.show()"
   ]
  },
  {
   "cell_type": "markdown",
   "metadata": {},
   "source": [
    "## Graph Explanation\n",
    "These scatterplots shows the relationship between the max temperature (F) in each northern and southern city based on its latitude. Based on the results, it seems the closer you get to the equator the hotter it gets, and the further away, the colder it gets. The Northern graph has a higher r-squared value because it has more of data points (391 vs 171) from the original."
   ]
  },
  {
   "cell_type": "markdown",
   "metadata": {},
   "source": [
    "####  Northern Hemisphere - Humidity (%) vs. Latitude Linear Regression"
   ]
  },
  {
   "cell_type": "code",
   "execution_count": 15,
   "metadata": {},
   "outputs": [
    {
     "name": "stdout",
     "output_type": "stream",
     "text": [
      "The r-squared is: 0.22647712002030537\n"
     ]
    },
    {
     "data": {
      "image/png": "[encoded data removed]",
      "text/plain": [
       "<Figure size 432x288 with 1 Axes>"
      ]
     },
     "metadata": {
      "needs_background": "light"
     },
     "output_type": "display_data"
    }
   ],
   "source": [
    "(slope, intercept, rvalue, pvalue, stderr) = linregress(nx_values, nhy_values)\n",
    "regress_values = nx_values * slope + intercept\n",
    "line_eq = \"y = \" + str(round(slope,2)) + \"x + \" + str(round(intercept,2))\n",
    "plt.scatter(nx_values, nhy_values)\n",
    "plt.plot(nx_values,regress_values,\"r-\")\n",
    "plt.annotate(line_eq,(45,10),fontsize=15,color=\"red\")\n",
    "plt.title(\"Northern Latitude Cities vs. Humidity\")\n",
    "plt.xlabel(\"Latitude\")\n",
    "plt.ylabel(\"Humidity (%)\")\n",
    "print(f\"The r-squared is: {rvalue}\")\n",
    "\n",
    "# show and save pic\n",
    "plt.savefig(\"../output_data/7NLatvHumid.png\")\n",
    "plt.show()"
   ]
  },
  {
   "cell_type": "markdown",
   "metadata": {},
   "source": [
    "####  Southern Hemisphere - Humidity (%) vs. Latitude Linear Regression"
   ]
  },
  {
   "cell_type": "code",
   "execution_count": 17,
   "metadata": {
    "scrolled": true
   },
   "outputs": [
    {
     "name": "stdout",
     "output_type": "stream",
     "text": [
      "The r-squared is: 0.30239191628116674\n"
     ]
    },
    {
     "data": {
      "image/png": "[encoded data removed]",
      "text/plain": [
       "<Figure size 432x288 with 1 Axes>"
      ]
     },
     "metadata": {
      "needs_background": "light"
     },
     "output_type": "display_data"
    }
   ],
   "source": [
    "(slope, intercept, rvalue, pvalue, stderr) = linregress(sx_values, shy_values)\n",
    "regress_values = sx_values * slope + intercept\n",
    "line_eq = \"y = \" + str(round(slope,2)) + \"x + \" + str(round(intercept,2))\n",
    "plt.scatter(sx_values, shy_values)\n",
    "plt.plot(sx_values,regress_values,\"r-\")\n",
    "plt.annotate(line_eq,(-50,55),fontsize=15,color=\"red\")\n",
    "plt.title(\"Southern Latitude Cities vs. Humidity\")\n",
    "plt.xlabel(\"Latitude\")\n",
    "plt.ylabel(\"Humidity (%)\")\n",
    "print(f\"The r-squared is: {rvalue}\")\n",
    "\n",
    "# show and save pic\n",
    "plt.savefig(\"../output_data/8SLatvHumid.png\")\n",
    "plt.show()"
   ]
  },
  {
   "cell_type": "markdown",
   "metadata": {},
   "source": [
    "## Graph Explanation\n",
    "These scatterplots shows the relationship between the humidity (%) in each northern and southern city based on its latitude. Based on the results, it does not seem that latitude affects humidity since the data points are all over the place."
   ]
  },
  {
   "cell_type": "markdown",
   "metadata": {},
   "source": [
    "####  Northern Hemisphere - Cloudiness (%) vs. Latitude Linear Regression"
   ]
  },
  {
   "cell_type": "code",
   "execution_count": 18,
   "metadata": {},
   "outputs": [
    {
     "name": "stdout",
     "output_type": "stream",
     "text": [
      "The r-squared is: 0.1958114712762661\n"
     ]
    },
    {
     "data": {
      "image/png": "[encoded data removed]",
      "text/plain": [
       "<Figure size 432x288 with 1 Axes>"
      ]
     },
     "metadata": {
      "needs_background": "light"
     },
     "output_type": "display_data"
    }
   ],
   "source": [
    "(slope, intercept, rvalue, pvalue, stderr) = linregress(nx_values, ncy_values)\n",
    "regress_values = nx_values * slope + intercept\n",
    "line_eq = \"y = \" + str(round(slope,2)) + \"x + \" + str(round(intercept,2))\n",
    "plt.scatter(nx_values, ncy_values)\n",
    "plt.plot(nx_values,regress_values,\"r-\")\n",
    "plt.annotate(line_eq,(45,55),fontsize=15,color=\"red\")\n",
    "plt.title(\"Northern Latitude Cities vs. Cloudiness\")\n",
    "plt.xlabel(\"Latitude\")\n",
    "plt.ylabel(\"Cloudiness (%)\")\n",
    "print(f\"The r-squared is: {rvalue}\")\n",
    "\n",
    "# show and save pic\n",
    "plt.savefig(\"../output_data/9NLatvCloud.png\")\n",
    "plt.show()"
   ]
  },
  {
   "cell_type": "markdown",
   "metadata": {},
   "source": [
    "####  Southern Hemisphere - Cloudiness (%) vs. Latitude Linear Regression"
   ]
  },
  {
   "cell_type": "code",
   "execution_count": 19,
   "metadata": {
    "scrolled": true
   },
   "outputs": [
    {
     "name": "stdout",
     "output_type": "stream",
     "text": [
      "The r-squared is: 0.25572579473731233\n"
     ]
    },
    {
     "data": {
      "image/png": "[encoded data removed]",
      "text/plain": [
       "<Figure size 432x288 with 1 Axes>"
      ]
     },
     "metadata": {
      "needs_background": "light"
     },
     "output_type": "display_data"
    }
   ],
   "source": [
    "(slope, intercept, rvalue, pvalue, stderr) = linregress(sx_values, scy_values)\n",
    "regress_values = sx_values * slope + intercept\n",
    "line_eq = \"y = \" + str(round(slope,2)) + \"x + \" + str(round(intercept,2))\n",
    "plt.scatter(sx_values, scy_values)\n",
    "plt.plot(sx_values,regress_values,\"r-\")\n",
    "plt.annotate(line_eq,(-45,30),fontsize=15,color=\"red\")\n",
    "plt.title(\"Southern Latitude Cities vs. Cloudiness\")\n",
    "plt.xlabel(\"Latitude\")\n",
    "plt.ylabel(\"Cloudiness (%)\")\n",
    "print(f\"The r-squared is: {rvalue}\")\n",
    "\n",
    "# show and save pic\n",
    "plt.savefig(\"../output_data/10SLatvCloud.png\")\n",
    "plt.show()"
   ]
  },
  {
   "cell_type": "markdown",
   "metadata": {},
   "source": [
    "## Graph Explanation\n",
    "These scatterplots shows the relationship between the cloudiness (%) in each northern and southern city based on its latitude. Based on the results, it does not seem that latitude affects cloudiness since the data points are all over the place."
   ]
  },
  {
   "cell_type": "markdown",
   "metadata": {},
   "source": [
    "####  Northern Hemisphere - Wind Speed (mph) vs. Latitude Linear Regression"
   ]
  },
  {
   "cell_type": "code",
   "execution_count": 20,
   "metadata": {},
   "outputs": [
    {
     "name": "stdout",
     "output_type": "stream",
     "text": [
      "The r-squared is: 0.17310800617075864\n"
     ]
    },
    {
     "data": {
      "image/png": "[encoded data removed]",
      "text/plain": [
       "<Figure size 432x288 with 1 Axes>"
      ]
     },
     "metadata": {
      "needs_background": "light"
     },
     "output_type": "display_data"
    }
   ],
   "source": [
    "(slope, intercept, rvalue, pvalue, stderr) = linregress(nx_values, nwy_values)\n",
    "regress_values = nx_values * slope + intercept\n",
    "line_eq = \"y = \" + str(round(slope,2)) + \"x + \" + str(round(intercept,2))\n",
    "plt.scatter(nx_values, nwy_values)\n",
    "plt.plot(nx_values,regress_values,\"r-\")\n",
    "plt.annotate(line_eq,(30,25),fontsize=15,color=\"red\")\n",
    "plt.title(\"Northern Latitude Cities vs. Wind Speed\")\n",
    "plt.xlabel(\"Latitude\")\n",
    "plt.ylabel(\"Wind Speed (mph)\")\n",
    "print(f\"The r-squared is: {rvalue}\")\n",
    "\n",
    "# show and save pic\n",
    "plt.savefig(\"../output_data/11NLatvWind.png\")\n",
    "plt.show()"
   ]
  },
  {
   "cell_type": "markdown",
   "metadata": {},
   "source": [
    "####  Southern Hemisphere - Wind Speed (mph) vs. Latitude Linear Regression"
   ]
  },
  {
   "cell_type": "code",
   "execution_count": 21,
   "metadata": {},
   "outputs": [
    {
     "name": "stdout",
     "output_type": "stream",
     "text": [
      "The r-squared is: -0.2973565371582439\n"
     ]
    },
    {
     "data": {
      "image/png": "[encoded data removed]",
      "text/plain": [
       "<Figure size 432x288 with 1 Axes>"
      ]
     },
     "metadata": {
      "needs_background": "light"
     },
     "output_type": "display_data"
    }
   ],
   "source": [
    "(slope, intercept, rvalue, pvalue, stderr) = linregress(sx_values, swy_values)\n",
    "regress_values = sx_values * slope + intercept\n",
    "line_eq = \"y = \" + str(round(slope,2)) + \"x + \" + str(round(intercept,2))\n",
    "plt.scatter(sx_values, swy_values)\n",
    "plt.plot(sx_values,regress_values,\"r-\")\n",
    "plt.annotate(line_eq,(-30,20),fontsize=15,color=\"red\")\n",
    "plt.title(\"Southern Latitude Cities vs. Wind Speed\")\n",
    "plt.xlabel(\"Latitude\")\n",
    "plt.ylabel(\"Wind Speed (mph)\")\n",
    "print(f\"The r-squared is: {rvalue}\")\n",
    "\n",
    "# show and save pic\n",
    "plt.savefig(\"../output_data/12sLatvWind.png\")\n",
    "plt.show()"
   ]
  },
  {
   "cell_type": "markdown",
   "metadata": {},
   "source": [
    "## Graph Explanation\n",
    "These scatterplots shows the relationship between the wind speed (mph) in each northern and southern city based on its latitude. Based on the results, it does not seem that latitude affects wind speed since the data points are all over the place."
   ]
  }
 ],
 "metadata": {
  "anaconda-cloud": {},
  "kernel_info": {
   "name": "python3"
  },
  "kernelspec": {
   "display_name": "Python 3",
   "language": "python",
   "name": "python3"
  },
  "language_info": {
   "codemirror_mode": {
    "name": "ipython",
    "version": 3
   },
   "file_extension": ".py",
   "mimetype": "text/x-python",
   "name": "python",
   "nbconvert_exporter": "python",
   "pygments_lexer": "ipython3",
   "version": "3.7.4"
  },
  "latex_envs": {
   "LaTeX_envs_menu_present": true,
   "autoclose": false,
   "autocomplete": true,
   "bibliofile": "biblio.bib",
   "cite_by": "apalike",
   "current_citInitial": 1,
   "eqLabelWithNumbers": true,
   "eqNumInitial": 1,
   "hotkeys": {
    "equation": "Ctrl-E",
    "itemize": "Ctrl-I"
   },
   "labels_anchors": false,
   "latex_user_defs": false,
   "report_style_numbering": false,
   "user_envs_cfg": false
  },
  "nteract": {
   "version": "0.12.3"
  }
 },
 "nbformat": 4,
 "nbformat_minor": 2
}
